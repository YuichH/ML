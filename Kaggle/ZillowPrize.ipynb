{
  "cells": [
    {
      "cell_type": "markdown",
      "metadata": {
        "id": "view-in-github",
        "colab_type": "text"
      },
      "source": [
        "<a href=\"https://colab.research.google.com/github/YuichH/ML/blob/main/Kaggle/ZillowPrize.ipynb\" target=\"_parent\"><img src=\"https://colab.research.google.com/assets/colab-badge.svg\" alt=\"Open In Colab\"/></a>"
      ]
    },
    {
      "cell_type": "markdown",
      "source": [
        "#共通\n"
      ],
      "metadata": {
        "id": "YHW9ggGLzPgm"
      },
      "id": "YHW9ggGLzPgm"
    },
    {
      "cell_type": "code",
      "source": [
        "import sys\n",
        "# Google colab環境であるか判定\n",
        "if 'google.colab' in sys.modules:\n",
        "    # マウントを行う\n",
        "    from google.colab import drive\n",
        "    drive.mount('/content/drive')\n",
        "else:\n",
        "    print(\"Not Google Colab\")"
      ],
      "metadata": {
        "colab": {
          "base_uri": "https://localhost:8080/"
        },
        "id": "Uc-6NyflGcMw",
        "outputId": "c21eb7e8-a7e7-4155-f189-a66d2f80fd0b"
      },
      "id": "Uc-6NyflGcMw",
      "execution_count": null,
      "outputs": [
        {
          "output_type": "stream",
          "name": "stdout",
          "text": [
            "Mounted at /content/drive\n"
          ]
        }
      ]
    },
    {
      "cell_type": "code",
      "source": [
        "# Google Colab. やJupyter Lab.でプロットするためには，以下を実行する．\n",
        "import plotly.io as pio\n",
        "pio.renderers.default = \"colab\"\n",
        "\n",
        "#invite people for the Kaggle party\n",
        "import pandas as pd\n",
        "import matplotlib.pyplot as plt\n",
        "import seaborn as sns\n",
        "color = sns.color_palette()\n",
        "sns.set_style('darkgrid')\n",
        "import numpy as np\n",
        "from scipy.stats import norm\n",
        "from scipy.stats import norm, skew #for some statistics\n",
        "from sklearn.preprocessing import StandardScaler\n",
        "from scipy import stats\n",
        "import warnings\n",
        "def ignore_warn(*args, **kwargs):\n",
        "    pass\n",
        "warnings.warn = ignore_warn #ignore annoying warning (from sklearn and seaborn)\n",
        "%matplotlib inline\n",
        "\n",
        "pd.set_option('display.float_format', lambda x: '{:.3f}'.format(x)) #Limiting floats output to 3 decimal points\n",
        "\n",
        "from subprocess import check_output\n",
        "import datetime as dt\n",
        "import gc\n",
        "\n",
        "import torch\n",
        "device = torch.device('cuda' if torch.cuda.is_available() else 'cpu')"
      ],
      "metadata": {
        "id": "8zFD4C0nLQqB"
      },
      "id": "8zFD4C0nLQqB",
      "execution_count": null,
      "outputs": []
    },
    {
      "cell_type": "code",
      "source": [
        "#パラメータ\n",
        "import argparse\n",
        "parser = argparse.ArgumentParser()\n",
        "# parser.add_argument(\"--n_epoch\", type=int, default=100)\n",
        "# parser.add_argument(\"--batch_size\", type=int, default=128)\n",
        "# parser.add_argument(\"--lr\", type=float, default=0.001)\n",
        "# parser.add_argument(\"--model_name\", default=\"Zillow Prize\")\n",
        "parser.add_argument(\"--work_dir\", default=\"/content/drive/MyDrive/Kaggle/Zillow Prize/\")\n",
        "parser.add_argument(\"--input_dir\", default=\"/content/drive/MyDrive/Kaggle/Zillow Prize/\")\n",
        "# parser.add_argument(\"--model_dir\", default=\"/content/drive/MyDrive/Kaggle/Zillow Prize/\")\n",
        "opt = parser.parse_args(args=[])\n",
        "print(opt)"
      ],
      "metadata": {
        "colab": {
          "base_uri": "https://localhost:8080/"
        },
        "id": "Zdqf96vWvnks",
        "outputId": "f73cf3e3-c813-4ed6-c250-aad0e67ddab8"
      },
      "id": "Zdqf96vWvnks",
      "execution_count": null,
      "outputs": [
        {
          "output_type": "stream",
          "name": "stdout",
          "text": [
            "Namespace(work_dir='/content/drive/MyDrive/Kaggle/Zillow Prize/', input_dir='/content/drive/MyDrive/Kaggle/Zillow Prize/')\n"
          ]
        }
      ]
    },
    {
      "cell_type": "markdown",
      "source": [
        "#Zillow Prize: Zillow’s Home Value Prediction (Zestimate)\n",
        "https://www.kaggle.com/competitions/zillow-prize-1/overview\n",
        "\n",
        "各プロパティ（ユニークなパーセルID）に対して、各タイムポイントの対数誤差を予測する必要があります。あなたは、6つのタイムポイントを予測する必要があります：2016年10月（201610）、2016年11月（201611）、2016年12月（201612）、2017年10月（201710）、2017年11月（201711）、2017年12月（201712）です。\n",
        "\n",
        "logerror = log(zestimate)-log(saleprice)"
      ],
      "metadata": {
        "id": "VI3F4gDn0e6I"
      },
      "id": "VI3F4gDn0e6I"
    },
    {
      "cell_type": "markdown",
      "source": [
        "ファイルの説明<br>\n",
        "properties_2016.csv - 2016年のホーム機能を持つ全物件。注：2017年の新規物件の中には、parcelid'sを除いてまだデータを持っていないものがあります。これらのデータポイントは、properties_2017.csvが利用可能になったときに入力されるはずです。<br>\n",
        "properties_2017.csv - 2017年のホーム機能を持つすべての物件（2017/10/2にリリースされました。）<br>\n",
        "train_2016.csv - 2016/1/1から2016/12/31までのトランザクションを含むトレーニングセット<br>\n",
        "train_2017.csv - 2017/1/1～2017/9/15の取引を含むトレーニングセット（2017/10/2リリース）<br>\n",
        "sample_submission.csv - 正しい形式のサンプル提出ファイルです。<br>"
      ],
      "metadata": {
        "id": "t-SMm7j-vbmp"
      },
      "id": "t-SMm7j-vbmp"
    },
    {
      "cell_type": "markdown",
      "source": [
        "##How to Compete for Zillow Prize at Kaggle\n",
        "https://www.kaggle.com/competitions/zillow-prize-1/discussion/39578"
      ],
      "metadata": {
        "id": "Sk5Yir9AmznY"
      },
      "id": "Sk5Yir9AmznY"
    },
    {
      "cell_type": "code",
      "source": [
        "properties = pd.read_csv(opt.input_dir + \"properties_2016.csv\")\n",
        "properties.columns"
      ],
      "metadata": {
        "colab": {
          "base_uri": "https://localhost:8080/"
        },
        "id": "HQNnwjWXRbC6",
        "outputId": "1e0cd466-996e-4bc3-b489-e2189a443a32"
      },
      "id": "HQNnwjWXRbC6",
      "execution_count": null,
      "outputs": [
        {
          "output_type": "execute_result",
          "data": {
            "text/plain": [
              "Index(['parcelid', 'airconditioningtypeid', 'architecturalstyletypeid',\n",
              "       'basementsqft', 'bathroomcnt', 'bedroomcnt', 'buildingclasstypeid',\n",
              "       'buildingqualitytypeid', 'calculatedbathnbr', 'decktypeid',\n",
              "       'finishedfloor1squarefeet', 'calculatedfinishedsquarefeet',\n",
              "       'finishedsquarefeet12', 'finishedsquarefeet13', 'finishedsquarefeet15',\n",
              "       'finishedsquarefeet50', 'finishedsquarefeet6', 'fips', 'fireplacecnt',\n",
              "       'fullbathcnt', 'garagecarcnt', 'garagetotalsqft', 'hashottuborspa',\n",
              "       'heatingorsystemtypeid', 'latitude', 'longitude', 'lotsizesquarefeet',\n",
              "       'poolcnt', 'poolsizesum', 'pooltypeid10', 'pooltypeid2', 'pooltypeid7',\n",
              "       'propertycountylandusecode', 'propertylandusetypeid',\n",
              "       'propertyzoningdesc', 'rawcensustractandblock', 'regionidcity',\n",
              "       'regionidcounty', 'regionidneighborhood', 'regionidzip', 'roomcnt',\n",
              "       'storytypeid', 'threequarterbathnbr', 'typeconstructiontypeid',\n",
              "       'unitcnt', 'yardbuildingsqft17', 'yardbuildingsqft26', 'yearbuilt',\n",
              "       'numberofstories', 'fireplaceflag', 'structuretaxvaluedollarcnt',\n",
              "       'taxvaluedollarcnt', 'assessmentyear', 'landtaxvaluedollarcnt',\n",
              "       'taxamount', 'taxdelinquencyflag', 'taxdelinquencyyear',\n",
              "       'censustractandblock'],\n",
              "      dtype='object')"
            ]
          },
          "metadata": {},
          "execution_count": 4
        }
      ]
    },
    {
      "cell_type": "code",
      "source": [
        "properties.head(5)"
      ],
      "metadata": {
        "colab": {
          "base_uri": "https://localhost:8080/",
          "height": 299
        },
        "id": "-j7KDdSMRnqh",
        "outputId": "9e4fd14e-9e43-4cd3-9427-c15b01ac9d64"
      },
      "id": "-j7KDdSMRnqh",
      "execution_count": null,
      "outputs": [
        {
          "output_type": "execute_result",
          "data": {
            "text/plain": [
              "   parcelid  airconditioningtypeid  architecturalstyletypeid  basementsqft  \\\n",
              "0  10754147                    NaN                       NaN           NaN   \n",
              "1  10759547                    NaN                       NaN           NaN   \n",
              "2  10843547                    NaN                       NaN           NaN   \n",
              "3  10859147                    NaN                       NaN           NaN   \n",
              "4  10879947                    NaN                       NaN           NaN   \n",
              "\n",
              "   bathroomcnt  bedroomcnt  buildingclasstypeid  buildingqualitytypeid  \\\n",
              "0        0.000       0.000                  NaN                    NaN   \n",
              "1        0.000       0.000                  NaN                    NaN   \n",
              "2        0.000       0.000                  NaN                    NaN   \n",
              "3        0.000       0.000                3.000                  7.000   \n",
              "4        0.000       0.000                4.000                    NaN   \n",
              "\n",
              "   calculatedbathnbr  decktypeid  ...  numberofstories  fireplaceflag  \\\n",
              "0                NaN         NaN  ...              NaN            NaN   \n",
              "1                NaN         NaN  ...              NaN            NaN   \n",
              "2                NaN         NaN  ...              NaN            NaN   \n",
              "3                NaN         NaN  ...            1.000            NaN   \n",
              "4                NaN         NaN  ...              NaN            NaN   \n",
              "\n",
              "   structuretaxvaluedollarcnt  taxvaluedollarcnt  assessmentyear  \\\n",
              "0                         NaN              9.000        2015.000   \n",
              "1                         NaN          27516.000        2015.000   \n",
              "2                  650756.000        1413387.000        2015.000   \n",
              "3                  571346.000        1156834.000        2015.000   \n",
              "4                  193796.000         433491.000        2015.000   \n",
              "\n",
              "   landtaxvaluedollarcnt  taxamount  taxdelinquencyflag  taxdelinquencyyear  \\\n",
              "0                  9.000        NaN                 NaN                 NaN   \n",
              "1              27516.000        NaN                 NaN                 NaN   \n",
              "2             762631.000  20800.370                 NaN                 NaN   \n",
              "3             585488.000  14557.570                 NaN                 NaN   \n",
              "4             239695.000   5725.170                 NaN                 NaN   \n",
              "\n",
              "   censustractandblock  \n",
              "0                  NaN  \n",
              "1                  NaN  \n",
              "2                  NaN  \n",
              "3                  NaN  \n",
              "4                  NaN  \n",
              "\n",
              "[5 rows x 58 columns]"
            ],
            "text/html": [
              "\n",
              "  <div id=\"df-6dd39f49-2f91-4e99-ab40-65d03ab20c18\">\n",
              "    <div class=\"colab-df-container\">\n",
              "      <div>\n",
              "<style scoped>\n",
              "    .dataframe tbody tr th:only-of-type {\n",
              "        vertical-align: middle;\n",
              "    }\n",
              "\n",
              "    .dataframe tbody tr th {\n",
              "        vertical-align: top;\n",
              "    }\n",
              "\n",
              "    .dataframe thead th {\n",
              "        text-align: right;\n",
              "    }\n",
              "</style>\n",
              "<table border=\"1\" class=\"dataframe\">\n",
              "  <thead>\n",
              "    <tr style=\"text-align: right;\">\n",
              "      <th></th>\n",
              "      <th>parcelid</th>\n",
              "      <th>airconditioningtypeid</th>\n",
              "      <th>architecturalstyletypeid</th>\n",
              "      <th>basementsqft</th>\n",
              "      <th>bathroomcnt</th>\n",
              "      <th>bedroomcnt</th>\n",
              "      <th>buildingclasstypeid</th>\n",
              "      <th>buildingqualitytypeid</th>\n",
              "      <th>calculatedbathnbr</th>\n",
              "      <th>decktypeid</th>\n",
              "      <th>...</th>\n",
              "      <th>numberofstories</th>\n",
              "      <th>fireplaceflag</th>\n",
              "      <th>structuretaxvaluedollarcnt</th>\n",
              "      <th>taxvaluedollarcnt</th>\n",
              "      <th>assessmentyear</th>\n",
              "      <th>landtaxvaluedollarcnt</th>\n",
              "      <th>taxamount</th>\n",
              "      <th>taxdelinquencyflag</th>\n",
              "      <th>taxdelinquencyyear</th>\n",
              "      <th>censustractandblock</th>\n",
              "    </tr>\n",
              "  </thead>\n",
              "  <tbody>\n",
              "    <tr>\n",
              "      <th>0</th>\n",
              "      <td>10754147</td>\n",
              "      <td>NaN</td>\n",
              "      <td>NaN</td>\n",
              "      <td>NaN</td>\n",
              "      <td>0.000</td>\n",
              "      <td>0.000</td>\n",
              "      <td>NaN</td>\n",
              "      <td>NaN</td>\n",
              "      <td>NaN</td>\n",
              "      <td>NaN</td>\n",
              "      <td>...</td>\n",
              "      <td>NaN</td>\n",
              "      <td>NaN</td>\n",
              "      <td>NaN</td>\n",
              "      <td>9.000</td>\n",
              "      <td>2015.000</td>\n",
              "      <td>9.000</td>\n",
              "      <td>NaN</td>\n",
              "      <td>NaN</td>\n",
              "      <td>NaN</td>\n",
              "      <td>NaN</td>\n",
              "    </tr>\n",
              "    <tr>\n",
              "      <th>1</th>\n",
              "      <td>10759547</td>\n",
              "      <td>NaN</td>\n",
              "      <td>NaN</td>\n",
              "      <td>NaN</td>\n",
              "      <td>0.000</td>\n",
              "      <td>0.000</td>\n",
              "      <td>NaN</td>\n",
              "      <td>NaN</td>\n",
              "      <td>NaN</td>\n",
              "      <td>NaN</td>\n",
              "      <td>...</td>\n",
              "      <td>NaN</td>\n",
              "      <td>NaN</td>\n",
              "      <td>NaN</td>\n",
              "      <td>27516.000</td>\n",
              "      <td>2015.000</td>\n",
              "      <td>27516.000</td>\n",
              "      <td>NaN</td>\n",
              "      <td>NaN</td>\n",
              "      <td>NaN</td>\n",
              "      <td>NaN</td>\n",
              "    </tr>\n",
              "    <tr>\n",
              "      <th>2</th>\n",
              "      <td>10843547</td>\n",
              "      <td>NaN</td>\n",
              "      <td>NaN</td>\n",
              "      <td>NaN</td>\n",
              "      <td>0.000</td>\n",
              "      <td>0.000</td>\n",
              "      <td>NaN</td>\n",
              "      <td>NaN</td>\n",
              "      <td>NaN</td>\n",
              "      <td>NaN</td>\n",
              "      <td>...</td>\n",
              "      <td>NaN</td>\n",
              "      <td>NaN</td>\n",
              "      <td>650756.000</td>\n",
              "      <td>1413387.000</td>\n",
              "      <td>2015.000</td>\n",
              "      <td>762631.000</td>\n",
              "      <td>20800.370</td>\n",
              "      <td>NaN</td>\n",
              "      <td>NaN</td>\n",
              "      <td>NaN</td>\n",
              "    </tr>\n",
              "    <tr>\n",
              "      <th>3</th>\n",
              "      <td>10859147</td>\n",
              "      <td>NaN</td>\n",
              "      <td>NaN</td>\n",
              "      <td>NaN</td>\n",
              "      <td>0.000</td>\n",
              "      <td>0.000</td>\n",
              "      <td>3.000</td>\n",
              "      <td>7.000</td>\n",
              "      <td>NaN</td>\n",
              "      <td>NaN</td>\n",
              "      <td>...</td>\n",
              "      <td>1.000</td>\n",
              "      <td>NaN</td>\n",
              "      <td>571346.000</td>\n",
              "      <td>1156834.000</td>\n",
              "      <td>2015.000</td>\n",
              "      <td>585488.000</td>\n",
              "      <td>14557.570</td>\n",
              "      <td>NaN</td>\n",
              "      <td>NaN</td>\n",
              "      <td>NaN</td>\n",
              "    </tr>\n",
              "    <tr>\n",
              "      <th>4</th>\n",
              "      <td>10879947</td>\n",
              "      <td>NaN</td>\n",
              "      <td>NaN</td>\n",
              "      <td>NaN</td>\n",
              "      <td>0.000</td>\n",
              "      <td>0.000</td>\n",
              "      <td>4.000</td>\n",
              "      <td>NaN</td>\n",
              "      <td>NaN</td>\n",
              "      <td>NaN</td>\n",
              "      <td>...</td>\n",
              "      <td>NaN</td>\n",
              "      <td>NaN</td>\n",
              "      <td>193796.000</td>\n",
              "      <td>433491.000</td>\n",
              "      <td>2015.000</td>\n",
              "      <td>239695.000</td>\n",
              "      <td>5725.170</td>\n",
              "      <td>NaN</td>\n",
              "      <td>NaN</td>\n",
              "      <td>NaN</td>\n",
              "    </tr>\n",
              "  </tbody>\n",
              "</table>\n",
              "<p>5 rows × 58 columns</p>\n",
              "</div>\n",
              "      <button class=\"colab-df-convert\" onclick=\"convertToInteractive('df-6dd39f49-2f91-4e99-ab40-65d03ab20c18')\"\n",
              "              title=\"Convert this dataframe to an interactive table.\"\n",
              "              style=\"display:none;\">\n",
              "        \n",
              "  <svg xmlns=\"http://www.w3.org/2000/svg\" height=\"24px\"viewBox=\"0 0 24 24\"\n",
              "       width=\"24px\">\n",
              "    <path d=\"M0 0h24v24H0V0z\" fill=\"none\"/>\n",
              "    <path d=\"M18.56 5.44l.94 2.06.94-2.06 2.06-.94-2.06-.94-.94-2.06-.94 2.06-2.06.94zm-11 1L8.5 8.5l.94-2.06 2.06-.94-2.06-.94L8.5 2.5l-.94 2.06-2.06.94zm10 10l.94 2.06.94-2.06 2.06-.94-2.06-.94-.94-2.06-.94 2.06-2.06.94z\"/><path d=\"M17.41 7.96l-1.37-1.37c-.4-.4-.92-.59-1.43-.59-.52 0-1.04.2-1.43.59L10.3 9.45l-7.72 7.72c-.78.78-.78 2.05 0 2.83L4 21.41c.39.39.9.59 1.41.59.51 0 1.02-.2 1.41-.59l7.78-7.78 2.81-2.81c.8-.78.8-2.07 0-2.86zM5.41 20L4 18.59l7.72-7.72 1.47 1.35L5.41 20z\"/>\n",
              "  </svg>\n",
              "      </button>\n",
              "      \n",
              "  <style>\n",
              "    .colab-df-container {\n",
              "      display:flex;\n",
              "      flex-wrap:wrap;\n",
              "      gap: 12px;\n",
              "    }\n",
              "\n",
              "    .colab-df-convert {\n",
              "      background-color: #E8F0FE;\n",
              "      border: none;\n",
              "      border-radius: 50%;\n",
              "      cursor: pointer;\n",
              "      display: none;\n",
              "      fill: #1967D2;\n",
              "      height: 32px;\n",
              "      padding: 0 0 0 0;\n",
              "      width: 32px;\n",
              "    }\n",
              "\n",
              "    .colab-df-convert:hover {\n",
              "      background-color: #E2EBFA;\n",
              "      box-shadow: 0px 1px 2px rgba(60, 64, 67, 0.3), 0px 1px 3px 1px rgba(60, 64, 67, 0.15);\n",
              "      fill: #174EA6;\n",
              "    }\n",
              "\n",
              "    [theme=dark] .colab-df-convert {\n",
              "      background-color: #3B4455;\n",
              "      fill: #D2E3FC;\n",
              "    }\n",
              "\n",
              "    [theme=dark] .colab-df-convert:hover {\n",
              "      background-color: #434B5C;\n",
              "      box-shadow: 0px 1px 3px 1px rgba(0, 0, 0, 0.15);\n",
              "      filter: drop-shadow(0px 1px 2px rgba(0, 0, 0, 0.3));\n",
              "      fill: #FFFFFF;\n",
              "    }\n",
              "  </style>\n",
              "\n",
              "      <script>\n",
              "        const buttonEl =\n",
              "          document.querySelector('#df-6dd39f49-2f91-4e99-ab40-65d03ab20c18 button.colab-df-convert');\n",
              "        buttonEl.style.display =\n",
              "          google.colab.kernel.accessAllowed ? 'block' : 'none';\n",
              "\n",
              "        async function convertToInteractive(key) {\n",
              "          const element = document.querySelector('#df-6dd39f49-2f91-4e99-ab40-65d03ab20c18');\n",
              "          const dataTable =\n",
              "            await google.colab.kernel.invokeFunction('convertToInteractive',\n",
              "                                                     [key], {});\n",
              "          if (!dataTable) return;\n",
              "\n",
              "          const docLinkHtml = 'Like what you see? Visit the ' +\n",
              "            '<a target=\"_blank\" href=https://colab.research.google.com/notebooks/data_table.ipynb>data table notebook</a>'\n",
              "            + ' to learn more about interactive tables.';\n",
              "          element.innerHTML = '';\n",
              "          dataTable['output_type'] = 'display_data';\n",
              "          await google.colab.output.renderOutput(dataTable, element);\n",
              "          const docLink = document.createElement('div');\n",
              "          docLink.innerHTML = docLinkHtml;\n",
              "          element.appendChild(docLink);\n",
              "        }\n",
              "      </script>\n",
              "    </div>\n",
              "  </div>\n",
              "  "
            ]
          },
          "metadata": {},
          "execution_count": 5
        }
      ]
    },
    {
      "cell_type": "code",
      "source": [
        "train = pd.read_csv(opt.input_dir + \"train_2016_v2.csv\")\n",
        "train.columns"
      ],
      "metadata": {
        "colab": {
          "base_uri": "https://localhost:8080/"
        },
        "id": "ab2GTjV40jWE",
        "outputId": "a0c19d01-7ad1-4210-a08e-fd7782322e98"
      },
      "id": "ab2GTjV40jWE",
      "execution_count": null,
      "outputs": [
        {
          "output_type": "execute_result",
          "data": {
            "text/plain": [
              "Index(['parcelid', 'logerror', 'transactiondate'], dtype='object')"
            ]
          },
          "metadata": {},
          "execution_count": 6
        }
      ]
    },
    {
      "cell_type": "code",
      "source": [
        "train.head(5)"
      ],
      "metadata": {
        "colab": {
          "base_uri": "https://localhost:8080/",
          "height": 206
        },
        "id": "bfZghEId1nlH",
        "outputId": "bb0075fe-590f-49f2-bb75-7519a1cb217c"
      },
      "id": "bfZghEId1nlH",
      "execution_count": null,
      "outputs": [
        {
          "output_type": "execute_result",
          "data": {
            "text/plain": [
              "   parcelid  logerror transactiondate\n",
              "0  11016594     0.028      2016-01-01\n",
              "1  14366692    -0.168      2016-01-01\n",
              "2  12098116    -0.004      2016-01-01\n",
              "3  12643413     0.022      2016-01-02\n",
              "4  14432541    -0.005      2016-01-02"
            ],
            "text/html": [
              "\n",
              "  <div id=\"df-37ad5143-4c4a-45fd-a761-80b9416405da\">\n",
              "    <div class=\"colab-df-container\">\n",
              "      <div>\n",
              "<style scoped>\n",
              "    .dataframe tbody tr th:only-of-type {\n",
              "        vertical-align: middle;\n",
              "    }\n",
              "\n",
              "    .dataframe tbody tr th {\n",
              "        vertical-align: top;\n",
              "    }\n",
              "\n",
              "    .dataframe thead th {\n",
              "        text-align: right;\n",
              "    }\n",
              "</style>\n",
              "<table border=\"1\" class=\"dataframe\">\n",
              "  <thead>\n",
              "    <tr style=\"text-align: right;\">\n",
              "      <th></th>\n",
              "      <th>parcelid</th>\n",
              "      <th>logerror</th>\n",
              "      <th>transactiondate</th>\n",
              "    </tr>\n",
              "  </thead>\n",
              "  <tbody>\n",
              "    <tr>\n",
              "      <th>0</th>\n",
              "      <td>11016594</td>\n",
              "      <td>0.028</td>\n",
              "      <td>2016-01-01</td>\n",
              "    </tr>\n",
              "    <tr>\n",
              "      <th>1</th>\n",
              "      <td>14366692</td>\n",
              "      <td>-0.168</td>\n",
              "      <td>2016-01-01</td>\n",
              "    </tr>\n",
              "    <tr>\n",
              "      <th>2</th>\n",
              "      <td>12098116</td>\n",
              "      <td>-0.004</td>\n",
              "      <td>2016-01-01</td>\n",
              "    </tr>\n",
              "    <tr>\n",
              "      <th>3</th>\n",
              "      <td>12643413</td>\n",
              "      <td>0.022</td>\n",
              "      <td>2016-01-02</td>\n",
              "    </tr>\n",
              "    <tr>\n",
              "      <th>4</th>\n",
              "      <td>14432541</td>\n",
              "      <td>-0.005</td>\n",
              "      <td>2016-01-02</td>\n",
              "    </tr>\n",
              "  </tbody>\n",
              "</table>\n",
              "</div>\n",
              "      <button class=\"colab-df-convert\" onclick=\"convertToInteractive('df-37ad5143-4c4a-45fd-a761-80b9416405da')\"\n",
              "              title=\"Convert this dataframe to an interactive table.\"\n",
              "              style=\"display:none;\">\n",
              "        \n",
              "  <svg xmlns=\"http://www.w3.org/2000/svg\" height=\"24px\"viewBox=\"0 0 24 24\"\n",
              "       width=\"24px\">\n",
              "    <path d=\"M0 0h24v24H0V0z\" fill=\"none\"/>\n",
              "    <path d=\"M18.56 5.44l.94 2.06.94-2.06 2.06-.94-2.06-.94-.94-2.06-.94 2.06-2.06.94zm-11 1L8.5 8.5l.94-2.06 2.06-.94-2.06-.94L8.5 2.5l-.94 2.06-2.06.94zm10 10l.94 2.06.94-2.06 2.06-.94-2.06-.94-.94-2.06-.94 2.06-2.06.94z\"/><path d=\"M17.41 7.96l-1.37-1.37c-.4-.4-.92-.59-1.43-.59-.52 0-1.04.2-1.43.59L10.3 9.45l-7.72 7.72c-.78.78-.78 2.05 0 2.83L4 21.41c.39.39.9.59 1.41.59.51 0 1.02-.2 1.41-.59l7.78-7.78 2.81-2.81c.8-.78.8-2.07 0-2.86zM5.41 20L4 18.59l7.72-7.72 1.47 1.35L5.41 20z\"/>\n",
              "  </svg>\n",
              "      </button>\n",
              "      \n",
              "  <style>\n",
              "    .colab-df-container {\n",
              "      display:flex;\n",
              "      flex-wrap:wrap;\n",
              "      gap: 12px;\n",
              "    }\n",
              "\n",
              "    .colab-df-convert {\n",
              "      background-color: #E8F0FE;\n",
              "      border: none;\n",
              "      border-radius: 50%;\n",
              "      cursor: pointer;\n",
              "      display: none;\n",
              "      fill: #1967D2;\n",
              "      height: 32px;\n",
              "      padding: 0 0 0 0;\n",
              "      width: 32px;\n",
              "    }\n",
              "\n",
              "    .colab-df-convert:hover {\n",
              "      background-color: #E2EBFA;\n",
              "      box-shadow: 0px 1px 2px rgba(60, 64, 67, 0.3), 0px 1px 3px 1px rgba(60, 64, 67, 0.15);\n",
              "      fill: #174EA6;\n",
              "    }\n",
              "\n",
              "    [theme=dark] .colab-df-convert {\n",
              "      background-color: #3B4455;\n",
              "      fill: #D2E3FC;\n",
              "    }\n",
              "\n",
              "    [theme=dark] .colab-df-convert:hover {\n",
              "      background-color: #434B5C;\n",
              "      box-shadow: 0px 1px 3px 1px rgba(0, 0, 0, 0.15);\n",
              "      filter: drop-shadow(0px 1px 2px rgba(0, 0, 0, 0.3));\n",
              "      fill: #FFFFFF;\n",
              "    }\n",
              "  </style>\n",
              "\n",
              "      <script>\n",
              "        const buttonEl =\n",
              "          document.querySelector('#df-37ad5143-4c4a-45fd-a761-80b9416405da button.colab-df-convert');\n",
              "        buttonEl.style.display =\n",
              "          google.colab.kernel.accessAllowed ? 'block' : 'none';\n",
              "\n",
              "        async function convertToInteractive(key) {\n",
              "          const element = document.querySelector('#df-37ad5143-4c4a-45fd-a761-80b9416405da');\n",
              "          const dataTable =\n",
              "            await google.colab.kernel.invokeFunction('convertToInteractive',\n",
              "                                                     [key], {});\n",
              "          if (!dataTable) return;\n",
              "\n",
              "          const docLinkHtml = 'Like what you see? Visit the ' +\n",
              "            '<a target=\"_blank\" href=https://colab.research.google.com/notebooks/data_table.ipynb>data table notebook</a>'\n",
              "            + ' to learn more about interactive tables.';\n",
              "          element.innerHTML = '';\n",
              "          dataTable['output_type'] = 'display_data';\n",
              "          await google.colab.output.renderOutput(dataTable, element);\n",
              "          const docLink = document.createElement('div');\n",
              "          docLink.innerHTML = docLinkHtml;\n",
              "          element.appendChild(docLink);\n",
              "        }\n",
              "      </script>\n",
              "    </div>\n",
              "  </div>\n",
              "  "
            ]
          },
          "metadata": {},
          "execution_count": 7
        }
      ]
    },
    {
      "cell_type": "code",
      "source": [
        "test = pd.read_csv(opt.input_dir + \"sample_submission.csv\")\n",
        "test.columns"
      ],
      "metadata": {
        "colab": {
          "base_uri": "https://localhost:8080/"
        },
        "id": "3ABlnSGS1a3q",
        "outputId": "8bbee236-5d81-4502-ab0e-40eb8c54ca3e"
      },
      "id": "3ABlnSGS1a3q",
      "execution_count": null,
      "outputs": [
        {
          "output_type": "execute_result",
          "data": {
            "text/plain": [
              "Index(['ParcelId', '201610', '201611', '201612', '201710', '201711', '201712'], dtype='object')"
            ]
          },
          "metadata": {},
          "execution_count": 8
        }
      ]
    },
    {
      "cell_type": "code",
      "source": [
        "test= test.rename(columns={'ParcelId': 'parcelid'}) #To make it easier for merging datasets on same column_id later"
      ],
      "metadata": {
        "id": "R3gNw3iLd5oG"
      },
      "id": "R3gNw3iLd5oG",
      "execution_count": null,
      "outputs": []
    },
    {
      "cell_type": "code",
      "source": [
        "test.head(5)"
      ],
      "metadata": {
        "colab": {
          "base_uri": "https://localhost:8080/",
          "height": 206
        },
        "id": "pihqmIPM1pBx",
        "outputId": "7023d247-8c63-4c7b-af27-6866aeb949ca"
      },
      "id": "pihqmIPM1pBx",
      "execution_count": null,
      "outputs": [
        {
          "output_type": "execute_result",
          "data": {
            "text/plain": [
              "   parcelid  201610  201611  201612  201710  201711  201712\n",
              "0  10754147       0       0       0       0       0       0\n",
              "1  10759547       0       0       0       0       0       0\n",
              "2  10843547       0       0       0       0       0       0\n",
              "3  10859147       0       0       0       0       0       0\n",
              "4  10879947       0       0       0       0       0       0"
            ],
            "text/html": [
              "\n",
              "  <div id=\"df-b367f9e1-aac9-4962-8708-db261438a409\">\n",
              "    <div class=\"colab-df-container\">\n",
              "      <div>\n",
              "<style scoped>\n",
              "    .dataframe tbody tr th:only-of-type {\n",
              "        vertical-align: middle;\n",
              "    }\n",
              "\n",
              "    .dataframe tbody tr th {\n",
              "        vertical-align: top;\n",
              "    }\n",
              "\n",
              "    .dataframe thead th {\n",
              "        text-align: right;\n",
              "    }\n",
              "</style>\n",
              "<table border=\"1\" class=\"dataframe\">\n",
              "  <thead>\n",
              "    <tr style=\"text-align: right;\">\n",
              "      <th></th>\n",
              "      <th>parcelid</th>\n",
              "      <th>201610</th>\n",
              "      <th>201611</th>\n",
              "      <th>201612</th>\n",
              "      <th>201710</th>\n",
              "      <th>201711</th>\n",
              "      <th>201712</th>\n",
              "    </tr>\n",
              "  </thead>\n",
              "  <tbody>\n",
              "    <tr>\n",
              "      <th>0</th>\n",
              "      <td>10754147</td>\n",
              "      <td>0</td>\n",
              "      <td>0</td>\n",
              "      <td>0</td>\n",
              "      <td>0</td>\n",
              "      <td>0</td>\n",
              "      <td>0</td>\n",
              "    </tr>\n",
              "    <tr>\n",
              "      <th>1</th>\n",
              "      <td>10759547</td>\n",
              "      <td>0</td>\n",
              "      <td>0</td>\n",
              "      <td>0</td>\n",
              "      <td>0</td>\n",
              "      <td>0</td>\n",
              "      <td>0</td>\n",
              "    </tr>\n",
              "    <tr>\n",
              "      <th>2</th>\n",
              "      <td>10843547</td>\n",
              "      <td>0</td>\n",
              "      <td>0</td>\n",
              "      <td>0</td>\n",
              "      <td>0</td>\n",
              "      <td>0</td>\n",
              "      <td>0</td>\n",
              "    </tr>\n",
              "    <tr>\n",
              "      <th>3</th>\n",
              "      <td>10859147</td>\n",
              "      <td>0</td>\n",
              "      <td>0</td>\n",
              "      <td>0</td>\n",
              "      <td>0</td>\n",
              "      <td>0</td>\n",
              "      <td>0</td>\n",
              "    </tr>\n",
              "    <tr>\n",
              "      <th>4</th>\n",
              "      <td>10879947</td>\n",
              "      <td>0</td>\n",
              "      <td>0</td>\n",
              "      <td>0</td>\n",
              "      <td>0</td>\n",
              "      <td>0</td>\n",
              "      <td>0</td>\n",
              "    </tr>\n",
              "  </tbody>\n",
              "</table>\n",
              "</div>\n",
              "      <button class=\"colab-df-convert\" onclick=\"convertToInteractive('df-b367f9e1-aac9-4962-8708-db261438a409')\"\n",
              "              title=\"Convert this dataframe to an interactive table.\"\n",
              "              style=\"display:none;\">\n",
              "        \n",
              "  <svg xmlns=\"http://www.w3.org/2000/svg\" height=\"24px\"viewBox=\"0 0 24 24\"\n",
              "       width=\"24px\">\n",
              "    <path d=\"M0 0h24v24H0V0z\" fill=\"none\"/>\n",
              "    <path d=\"M18.56 5.44l.94 2.06.94-2.06 2.06-.94-2.06-.94-.94-2.06-.94 2.06-2.06.94zm-11 1L8.5 8.5l.94-2.06 2.06-.94-2.06-.94L8.5 2.5l-.94 2.06-2.06.94zm10 10l.94 2.06.94-2.06 2.06-.94-2.06-.94-.94-2.06-.94 2.06-2.06.94z\"/><path d=\"M17.41 7.96l-1.37-1.37c-.4-.4-.92-.59-1.43-.59-.52 0-1.04.2-1.43.59L10.3 9.45l-7.72 7.72c-.78.78-.78 2.05 0 2.83L4 21.41c.39.39.9.59 1.41.59.51 0 1.02-.2 1.41-.59l7.78-7.78 2.81-2.81c.8-.78.8-2.07 0-2.86zM5.41 20L4 18.59l7.72-7.72 1.47 1.35L5.41 20z\"/>\n",
              "  </svg>\n",
              "      </button>\n",
              "      \n",
              "  <style>\n",
              "    .colab-df-container {\n",
              "      display:flex;\n",
              "      flex-wrap:wrap;\n",
              "      gap: 12px;\n",
              "    }\n",
              "\n",
              "    .colab-df-convert {\n",
              "      background-color: #E8F0FE;\n",
              "      border: none;\n",
              "      border-radius: 50%;\n",
              "      cursor: pointer;\n",
              "      display: none;\n",
              "      fill: #1967D2;\n",
              "      height: 32px;\n",
              "      padding: 0 0 0 0;\n",
              "      width: 32px;\n",
              "    }\n",
              "\n",
              "    .colab-df-convert:hover {\n",
              "      background-color: #E2EBFA;\n",
              "      box-shadow: 0px 1px 2px rgba(60, 64, 67, 0.3), 0px 1px 3px 1px rgba(60, 64, 67, 0.15);\n",
              "      fill: #174EA6;\n",
              "    }\n",
              "\n",
              "    [theme=dark] .colab-df-convert {\n",
              "      background-color: #3B4455;\n",
              "      fill: #D2E3FC;\n",
              "    }\n",
              "\n",
              "    [theme=dark] .colab-df-convert:hover {\n",
              "      background-color: #434B5C;\n",
              "      box-shadow: 0px 1px 3px 1px rgba(0, 0, 0, 0.15);\n",
              "      filter: drop-shadow(0px 1px 2px rgba(0, 0, 0, 0.3));\n",
              "      fill: #FFFFFF;\n",
              "    }\n",
              "  </style>\n",
              "\n",
              "      <script>\n",
              "        const buttonEl =\n",
              "          document.querySelector('#df-b367f9e1-aac9-4962-8708-db261438a409 button.colab-df-convert');\n",
              "        buttonEl.style.display =\n",
              "          google.colab.kernel.accessAllowed ? 'block' : 'none';\n",
              "\n",
              "        async function convertToInteractive(key) {\n",
              "          const element = document.querySelector('#df-b367f9e1-aac9-4962-8708-db261438a409');\n",
              "          const dataTable =\n",
              "            await google.colab.kernel.invokeFunction('convertToInteractive',\n",
              "                                                     [key], {});\n",
              "          if (!dataTable) return;\n",
              "\n",
              "          const docLinkHtml = 'Like what you see? Visit the ' +\n",
              "            '<a target=\"_blank\" href=https://colab.research.google.com/notebooks/data_table.ipynb>data table notebook</a>'\n",
              "            + ' to learn more about interactive tables.';\n",
              "          element.innerHTML = '';\n",
              "          dataTable['output_type'] = 'display_data';\n",
              "          await google.colab.output.renderOutput(dataTable, element);\n",
              "          const docLink = document.createElement('div');\n",
              "          docLink.innerHTML = docLinkHtml;\n",
              "          element.appendChild(docLink);\n",
              "        }\n",
              "      </script>\n",
              "    </div>\n",
              "  </div>\n",
              "  "
            ]
          },
          "metadata": {},
          "execution_count": 10
        }
      ]
    },
    {
      "cell_type": "code",
      "source": [
        "print(\"Training Size:\" + str(train.shape))\n",
        "print(\"Property Size:\" + str(properties.shape))\n",
        "print(\"Sample Size:\" + str(test.shape))"
      ],
      "metadata": {
        "colab": {
          "base_uri": "https://localhost:8080/"
        },
        "id": "7IKshUt7WEtX",
        "outputId": "02e3c551-8749-4d18-fdfe-4d1b260606aa"
      },
      "id": "7IKshUt7WEtX",
      "execution_count": null,
      "outputs": [
        {
          "output_type": "stream",
          "name": "stdout",
          "text": [
            "Training Size:(90275, 3)\n",
            "Property Size:(2985217, 58)\n",
            "Sample Size:(2985217, 7)\n"
          ]
        }
      ]
    },
    {
      "cell_type": "markdown",
      "source": [
        "##前処理"
      ],
      "metadata": {
        "id": "R_e3lv8uYOJY"
      },
      "id": "R_e3lv8uYOJY"
    },
    {
      "cell_type": "code",
      "source": [
        "# int/float64⇒int/float32\n",
        "for c, dtype in zip(properties.columns, properties.dtypes):\n",
        "    if dtype == np.float64:\n",
        "        properties[c] = properties[c].astype(np.float32)\n",
        "    if dtype == np.int64:\n",
        "        properties[c] = properties[c].astype(np.int32)\n",
        "\n",
        "for column in test.columns:\n",
        "    if test[column].dtype == int:\n",
        "        test[column] = test[column].astype(np.int32)\n",
        "    if test[column].dtype == float:\n",
        "        test[column] = test[column].astype(np.float32)"
      ],
      "metadata": {
        "id": "TozqclUaYQuZ"
      },
      "id": "TozqclUaYQuZ",
      "execution_count": null,
      "outputs": []
    },
    {
      "cell_type": "code",
      "source": [
        "#living area proportions\n",
        "properties['living_area_prop'] = properties['calculatedfinishedsquarefeet'] / properties['lotsizesquarefeet']\n",
        "#tax value ratio\n",
        "properties['value_ratio'] = properties['taxvaluedollarcnt'] / properties['taxamount']\n",
        "#tax value proportions\n",
        "properties['value_prop'] = properties['structuretaxvaluedollarcnt'] / properties['landtaxvaluedollarcnt']"
      ],
      "metadata": {
        "id": "AHd1fnF8YgZ_"
      },
      "id": "AHd1fnF8YgZ_",
      "execution_count": null,
      "outputs": []
    },
    {
      "cell_type": "code",
      "source": [
        "# merging the properties dataset with training and testing dataset for model building and testing prediction\n",
        "df_train = train.merge(properties, how='left', on='parcelid')\n",
        "df_test = test.merge(properties, how='left', on='parcelid')"
      ],
      "metadata": {
        "id": "tNQbcPMKdu0j"
      },
      "id": "tNQbcPMKdu0j",
      "execution_count": null,
      "outputs": []
    },
    {
      "cell_type": "code",
      "source": [
        "### Remove previos variables to keep some memory\n",
        "del properties, train\n",
        "gc.collect();\n",
        "\n",
        "print('Memory usage reduction…')\n",
        "df_train[['latitude', 'longitude']] /= 1e6\n",
        "df_test[['latitude', 'longitude']] /= 1e6\n",
        "\n",
        "df_train['censustractandblock'] /= 1e12\n",
        "df_test['censustractandblock'] /= 1e12"
      ],
      "metadata": {
        "colab": {
          "base_uri": "https://localhost:8080/"
        },
        "id": "Vz_GurnaeQpM",
        "outputId": "44342762-26dd-43f3-e83f-e74e056fb20a"
      },
      "id": "Vz_GurnaeQpM",
      "execution_count": null,
      "outputs": [
        {
          "output_type": "stream",
          "name": "stdout",
          "text": [
            "Memory usage reduction…\n"
          ]
        }
      ]
    },
    {
      "cell_type": "code",
      "source": [
        "# Label Encoding For Machine Learning & Filling Missing Values\n",
        "from sklearn.preprocessing import LabelEncoder\n",
        "\n",
        "lbl = LabelEncoder()\n",
        "for c in df_train.columns:\n",
        "    df_train[c]=df_train[c].fillna(0)\n",
        "    if df_train[c].dtype == 'object':\n",
        "        lbl.fit(list(df_train[c].values))\n",
        "        df_train[c] = lbl.transform(list(df_train[c].values))\n",
        "\n",
        "for c in df_test.columns:\n",
        "    df_test[c]=df_test[c].fillna(0)\n",
        "    if df_test[c].dtype == 'object':\n",
        "        lbl.fit(list(df_test[c].values))\n",
        "        df_test[c] = lbl.transform(list(df_test[c].values))"
      ],
      "metadata": {
        "id": "pW8ACJZUelIe"
      },
      "id": "pW8ACJZUelIe",
      "execution_count": null,
      "outputs": []
    },
    {
      "cell_type": "code",
      "source": [
        "# We will now drop the features that serve no useful purpose.\n",
        "x_train = df_train.drop(['parcelid', 'logerror', 'transactiondate', 'propertyzoningdesc', 'propertycountylandusecode'], axis=1)\n",
        "x_test = df_test.drop(['parcelid', 'propertyzoningdesc', 'propertycountylandusecode', '201610', '201611', '201612', '201710', '201711', '201712'], axis = 1)"
      ],
      "metadata": {
        "id": "7U62RYu6fbI_"
      },
      "id": "7U62RYu6fbI_",
      "execution_count": null,
      "outputs": []
    },
    {
      "cell_type": "code",
      "source": [
        "x_train = x_train.values\n",
        "y_train = df_train['logerror'].values"
      ],
      "metadata": {
        "id": "HY2Zs3N0iQBu"
      },
      "id": "HY2Zs3N0iQBu",
      "execution_count": null,
      "outputs": []
    },
    {
      "cell_type": "code",
      "source": [
        "print(x_train[0])\n",
        "print(y_train[0])"
      ],
      "metadata": {
        "colab": {
          "base_uri": "https://localhost:8080/"
        },
        "id": "0oZteDr9f4A-",
        "outputId": "b1a48904-2d71-474f-d09b-eddb08160820"
      },
      "id": "0oZteDr9f4A-",
      "execution_count": null,
      "outputs": [
        {
          "output_type": "stream",
          "name": "stdout",
          "text": [
            "[ 1.00000000e+00  0.00000000e+00  0.00000000e+00  2.00000000e+00\n",
            "  3.00000000e+00  0.00000000e+00  4.00000000e+00  2.00000000e+00\n",
            "  0.00000000e+00  0.00000000e+00  1.68400000e+03  1.68400000e+03\n",
            "  0.00000000e+00  0.00000000e+00  0.00000000e+00  0.00000000e+00\n",
            "  6.03700000e+03  0.00000000e+00  2.00000000e+00  0.00000000e+00\n",
            "  0.00000000e+00  0.00000000e+00  2.00000000e+00  3.42809906e+01\n",
            " -1.18488533e+02  7.52800000e+03  0.00000000e+00  0.00000000e+00\n",
            "  0.00000000e+00  0.00000000e+00  0.00000000e+00  2.61000000e+02\n",
            "  6.03710680e+07  1.24470000e+04  3.10100000e+03  3.18170000e+04\n",
            "  9.63700000e+04  0.00000000e+00  0.00000000e+00  0.00000000e+00\n",
            "  0.00000000e+00  1.00000000e+00  0.00000000e+00  0.00000000e+00\n",
            "  1.95900000e+03  0.00000000e+00  0.00000000e+00  1.22754000e+05\n",
            "  3.60170000e+05  2.01500000e+03  2.37416000e+05  6.73587988e+03\n",
            "  0.00000000e+00  0.00000000e+00  6.03710670e+01  2.23698199e-01\n",
            "  5.34703712e+01  5.17041802e-01]\n",
            "0.0276\n"
          ]
        }
      ]
    },
    {
      "cell_type": "markdown",
      "source": [
        "##Cross Validation\n"
      ],
      "metadata": {
        "id": "aOVtLdH9jDHm"
      },
      "id": "aOVtLdH9jDHm"
    },
    {
      "cell_type": "code",
      "source": [
        "from sklearn.model_selection import train_test_split\n",
        "X = x_train\n",
        "y = y_train\n",
        "\n",
        "Xtrain, Xvalid, ytrain, yvalid = train_test_split(X, y, test_size=0.2, random_state=42)"
      ],
      "metadata": {
        "id": "-pL7SF-dgQGR"
      },
      "id": "-pL7SF-dgQGR",
      "execution_count": null,
      "outputs": []
    },
    {
      "cell_type": "code",
      "source": [
        "#Implement the Xgboost\n",
        "import xgboost as xgb\n",
        "dtrain = xgb.DMatrix(Xtrain, label=ytrain)\n",
        "dvalid = xgb.DMatrix(Xvalid, label=yvalid)\n",
        "dtest = xgb.DMatrix(x_test.values)"
      ],
      "metadata": {
        "id": "AMr7FCWRjKLF"
      },
      "id": "AMr7FCWRjKLF",
      "execution_count": null,
      "outputs": []
    },
    {
      "cell_type": "code",
      "source": [
        "# Try different parameters!\n",
        "xgb_params = {'min_child_weight': 5, 'eta': 0.035, 'colsample_bytree': 0.5, 'max_depth': 4, 'subsample': 0.85, 'lambda': 0.8, 'nthread': -1, 'booster' : 'gbtree', 'silent': 1, 'gamma' : 0, 'eval_metric': 'mae', 'objective': 'reg:linear' }\n",
        "watchlist = [(dtrain, 'train'), (dvalid, 'valid')]\n",
        "\n",
        "model_xgb = xgb.train(xgb_params, dtrain, 1000, watchlist, early_stopping_rounds=100, maximize=False, verbose_eval=10)"
      ],
      "metadata": {
        "colab": {
          "base_uri": "https://localhost:8080/"
        },
        "id": "DOp8m_oIjKJ-",
        "outputId": "27cce3aa-5dd2-4b1c-ac4d-9fb3eb96c2d8"
      },
      "id": "DOp8m_oIjKJ-",
      "execution_count": null,
      "outputs": [
        {
          "output_type": "stream",
          "name": "stdout",
          "text": [
            "[23:37:21] WARNING: ../src/objective/regression_obj.cu:213: reg:linear is now deprecated in favor of reg:squarederror.\n",
            "[23:37:21] WARNING: ../src/learner.cc:767: \n",
            "Parameters: { \"silent\" } are not used.\n",
            "\n",
            "[0]\ttrain-mae:0.47988\tvalid-mae:0.48093\n",
            "[10]\ttrain-mae:0.34206\tvalid-mae:0.34313\n",
            "[20]\ttrain-mae:0.24750\tvalid-mae:0.24855\n",
            "[30]\ttrain-mae:0.18325\tvalid-mae:0.18422\n",
            "[40]\ttrain-mae:0.14020\tvalid-mae:0.14105\n",
            "[50]\ttrain-mae:0.11193\tvalid-mae:0.11260\n",
            "[60]\ttrain-mae:0.09394\tvalid-mae:0.09453\n",
            "[70]\ttrain-mae:0.08293\tvalid-mae:0.08344\n",
            "[80]\ttrain-mae:0.07642\tvalid-mae:0.07695\n",
            "[90]\ttrain-mae:0.07269\tvalid-mae:0.07325\n",
            "[100]\ttrain-mae:0.07057\tvalid-mae:0.07115\n",
            "[110]\ttrain-mae:0.06938\tvalid-mae:0.06996\n",
            "[120]\ttrain-mae:0.06868\tvalid-mae:0.06931\n",
            "[130]\ttrain-mae:0.06825\tvalid-mae:0.06891\n",
            "[140]\ttrain-mae:0.06800\tvalid-mae:0.06869\n",
            "[150]\ttrain-mae:0.06784\tvalid-mae:0.06855\n",
            "[160]\ttrain-mae:0.06772\tvalid-mae:0.06847\n",
            "[170]\ttrain-mae:0.06763\tvalid-mae:0.06842\n",
            "[180]\ttrain-mae:0.06758\tvalid-mae:0.06841\n",
            "[190]\ttrain-mae:0.06754\tvalid-mae:0.06840\n",
            "[200]\ttrain-mae:0.06751\tvalid-mae:0.06839\n",
            "[210]\ttrain-mae:0.06748\tvalid-mae:0.06841\n",
            "[220]\ttrain-mae:0.06745\tvalid-mae:0.06840\n",
            "[230]\ttrain-mae:0.06743\tvalid-mae:0.06842\n",
            "[240]\ttrain-mae:0.06741\tvalid-mae:0.06844\n",
            "[250]\ttrain-mae:0.06740\tvalid-mae:0.06846\n",
            "[260]\ttrain-mae:0.06739\tvalid-mae:0.06846\n",
            "[270]\ttrain-mae:0.06737\tvalid-mae:0.06847\n",
            "[280]\ttrain-mae:0.06735\tvalid-mae:0.06849\n",
            "[290]\ttrain-mae:0.06733\tvalid-mae:0.06851\n",
            "[300]\ttrain-mae:0.06731\tvalid-mae:0.06852\n",
            "[302]\ttrain-mae:0.06731\tvalid-mae:0.06852\n"
          ]
        }
      ]
    },
    {
      "cell_type": "code",
      "source": [
        "#Predicting the results\n",
        "Predicted_test_xgb = model_xgb.predict(dtest)"
      ],
      "metadata": {
        "id": "_o8uncQAlfhh"
      },
      "id": "_o8uncQAlfhh",
      "execution_count": null,
      "outputs": []
    },
    {
      "cell_type": "code",
      "source": [
        "sample_file = pd.read_csv(opt.input_dir + '/sample_submission.csv')\n",
        "for c in sample_file.columns[sample_file.columns != 'ParcelId']:\n",
        "    sample_file[c] = Predicted_test_xgb\n",
        "\n",
        "print('Preparing the csv file …')\n",
        "sample_file.to_csv(opt.input_dir + 'xgb_predicted_results.csv', index=False, float_format='%.4f')\n",
        "print(\"Finished writing the file\")"
      ],
      "metadata": {
        "colab": {
          "base_uri": "https://localhost:8080/"
        },
        "id": "xevQpdgallt3",
        "outputId": "afa2515d-cf83-488c-c75d-3343b8373963"
      },
      "id": "xevQpdgallt3",
      "execution_count": null,
      "outputs": [
        {
          "output_type": "stream",
          "name": "stdout",
          "text": [
            "Preparing the csv file …\n",
            "Finished writing the file\n"
          ]
        }
      ]
    },
    {
      "cell_type": "code",
      "source": [
        "Predicted_test_xgb[0]"
      ],
      "metadata": {
        "colab": {
          "base_uri": "https://localhost:8080/"
        },
        "id": "trVK-lxGlGJi",
        "outputId": "bba17f25-1609-49e1-f31b-ac3b3e7ffcf6"
      },
      "id": "trVK-lxGlGJi",
      "execution_count": null,
      "outputs": [
        {
          "output_type": "execute_result",
          "data": {
            "text/plain": [
              "0.8735636"
            ]
          },
          "metadata": {},
          "execution_count": 26
        }
      ]
    },
    {
      "cell_type": "code",
      "source": [
        "sample_file.head()"
      ],
      "metadata": {
        "colab": {
          "base_uri": "https://localhost:8080/",
          "height": 206
        },
        "id": "3jX7a61VlJBz",
        "outputId": "255aa677-2485-49da-9a30-4fe152f7ffad"
      },
      "id": "3jX7a61VlJBz",
      "execution_count": null,
      "outputs": [
        {
          "output_type": "execute_result",
          "data": {
            "text/plain": [
              "   ParcelId  201610  201611  201612  201710  201711  201712\n",
              "0  10754147   0.874   0.874   0.874   0.874   0.874   0.874\n",
              "1  10759547   0.330   0.330   0.330   0.330   0.330   0.330\n",
              "2  10843547   0.184   0.184   0.184   0.184   0.184   0.184\n",
              "3  10859147   0.060   0.060   0.060   0.060   0.060   0.060\n",
              "4  10879947  -0.014  -0.014  -0.014  -0.014  -0.014  -0.014"
            ],
            "text/html": [
              "\n",
              "  <div id=\"df-44eb5acc-4285-4a4e-8b51-7b0a94a17fe8\">\n",
              "    <div class=\"colab-df-container\">\n",
              "      <div>\n",
              "<style scoped>\n",
              "    .dataframe tbody tr th:only-of-type {\n",
              "        vertical-align: middle;\n",
              "    }\n",
              "\n",
              "    .dataframe tbody tr th {\n",
              "        vertical-align: top;\n",
              "    }\n",
              "\n",
              "    .dataframe thead th {\n",
              "        text-align: right;\n",
              "    }\n",
              "</style>\n",
              "<table border=\"1\" class=\"dataframe\">\n",
              "  <thead>\n",
              "    <tr style=\"text-align: right;\">\n",
              "      <th></th>\n",
              "      <th>ParcelId</th>\n",
              "      <th>201610</th>\n",
              "      <th>201611</th>\n",
              "      <th>201612</th>\n",
              "      <th>201710</th>\n",
              "      <th>201711</th>\n",
              "      <th>201712</th>\n",
              "    </tr>\n",
              "  </thead>\n",
              "  <tbody>\n",
              "    <tr>\n",
              "      <th>0</th>\n",
              "      <td>10754147</td>\n",
              "      <td>0.874</td>\n",
              "      <td>0.874</td>\n",
              "      <td>0.874</td>\n",
              "      <td>0.874</td>\n",
              "      <td>0.874</td>\n",
              "      <td>0.874</td>\n",
              "    </tr>\n",
              "    <tr>\n",
              "      <th>1</th>\n",
              "      <td>10759547</td>\n",
              "      <td>0.330</td>\n",
              "      <td>0.330</td>\n",
              "      <td>0.330</td>\n",
              "      <td>0.330</td>\n",
              "      <td>0.330</td>\n",
              "      <td>0.330</td>\n",
              "    </tr>\n",
              "    <tr>\n",
              "      <th>2</th>\n",
              "      <td>10843547</td>\n",
              "      <td>0.184</td>\n",
              "      <td>0.184</td>\n",
              "      <td>0.184</td>\n",
              "      <td>0.184</td>\n",
              "      <td>0.184</td>\n",
              "      <td>0.184</td>\n",
              "    </tr>\n",
              "    <tr>\n",
              "      <th>3</th>\n",
              "      <td>10859147</td>\n",
              "      <td>0.060</td>\n",
              "      <td>0.060</td>\n",
              "      <td>0.060</td>\n",
              "      <td>0.060</td>\n",
              "      <td>0.060</td>\n",
              "      <td>0.060</td>\n",
              "    </tr>\n",
              "    <tr>\n",
              "      <th>4</th>\n",
              "      <td>10879947</td>\n",
              "      <td>-0.014</td>\n",
              "      <td>-0.014</td>\n",
              "      <td>-0.014</td>\n",
              "      <td>-0.014</td>\n",
              "      <td>-0.014</td>\n",
              "      <td>-0.014</td>\n",
              "    </tr>\n",
              "  </tbody>\n",
              "</table>\n",
              "</div>\n",
              "      <button class=\"colab-df-convert\" onclick=\"convertToInteractive('df-44eb5acc-4285-4a4e-8b51-7b0a94a17fe8')\"\n",
              "              title=\"Convert this dataframe to an interactive table.\"\n",
              "              style=\"display:none;\">\n",
              "        \n",
              "  <svg xmlns=\"http://www.w3.org/2000/svg\" height=\"24px\"viewBox=\"0 0 24 24\"\n",
              "       width=\"24px\">\n",
              "    <path d=\"M0 0h24v24H0V0z\" fill=\"none\"/>\n",
              "    <path d=\"M18.56 5.44l.94 2.06.94-2.06 2.06-.94-2.06-.94-.94-2.06-.94 2.06-2.06.94zm-11 1L8.5 8.5l.94-2.06 2.06-.94-2.06-.94L8.5 2.5l-.94 2.06-2.06.94zm10 10l.94 2.06.94-2.06 2.06-.94-2.06-.94-.94-2.06-.94 2.06-2.06.94z\"/><path d=\"M17.41 7.96l-1.37-1.37c-.4-.4-.92-.59-1.43-.59-.52 0-1.04.2-1.43.59L10.3 9.45l-7.72 7.72c-.78.78-.78 2.05 0 2.83L4 21.41c.39.39.9.59 1.41.59.51 0 1.02-.2 1.41-.59l7.78-7.78 2.81-2.81c.8-.78.8-2.07 0-2.86zM5.41 20L4 18.59l7.72-7.72 1.47 1.35L5.41 20z\"/>\n",
              "  </svg>\n",
              "      </button>\n",
              "      \n",
              "  <style>\n",
              "    .colab-df-container {\n",
              "      display:flex;\n",
              "      flex-wrap:wrap;\n",
              "      gap: 12px;\n",
              "    }\n",
              "\n",
              "    .colab-df-convert {\n",
              "      background-color: #E8F0FE;\n",
              "      border: none;\n",
              "      border-radius: 50%;\n",
              "      cursor: pointer;\n",
              "      display: none;\n",
              "      fill: #1967D2;\n",
              "      height: 32px;\n",
              "      padding: 0 0 0 0;\n",
              "      width: 32px;\n",
              "    }\n",
              "\n",
              "    .colab-df-convert:hover {\n",
              "      background-color: #E2EBFA;\n",
              "      box-shadow: 0px 1px 2px rgba(60, 64, 67, 0.3), 0px 1px 3px 1px rgba(60, 64, 67, 0.15);\n",
              "      fill: #174EA6;\n",
              "    }\n",
              "\n",
              "    [theme=dark] .colab-df-convert {\n",
              "      background-color: #3B4455;\n",
              "      fill: #D2E3FC;\n",
              "    }\n",
              "\n",
              "    [theme=dark] .colab-df-convert:hover {\n",
              "      background-color: #434B5C;\n",
              "      box-shadow: 0px 1px 3px 1px rgba(0, 0, 0, 0.15);\n",
              "      filter: drop-shadow(0px 1px 2px rgba(0, 0, 0, 0.3));\n",
              "      fill: #FFFFFF;\n",
              "    }\n",
              "  </style>\n",
              "\n",
              "      <script>\n",
              "        const buttonEl =\n",
              "          document.querySelector('#df-44eb5acc-4285-4a4e-8b51-7b0a94a17fe8 button.colab-df-convert');\n",
              "        buttonEl.style.display =\n",
              "          google.colab.kernel.accessAllowed ? 'block' : 'none';\n",
              "\n",
              "        async function convertToInteractive(key) {\n",
              "          const element = document.querySelector('#df-44eb5acc-4285-4a4e-8b51-7b0a94a17fe8');\n",
              "          const dataTable =\n",
              "            await google.colab.kernel.invokeFunction('convertToInteractive',\n",
              "                                                     [key], {});\n",
              "          if (!dataTable) return;\n",
              "\n",
              "          const docLinkHtml = 'Like what you see? Visit the ' +\n",
              "            '<a target=\"_blank\" href=https://colab.research.google.com/notebooks/data_table.ipynb>data table notebook</a>'\n",
              "            + ' to learn more about interactive tables.';\n",
              "          element.innerHTML = '';\n",
              "          dataTable['output_type'] = 'display_data';\n",
              "          await google.colab.output.renderOutput(dataTable, element);\n",
              "          const docLink = document.createElement('div');\n",
              "          docLink.innerHTML = docLinkHtml;\n",
              "          element.appendChild(docLink);\n",
              "        }\n",
              "      </script>\n",
              "    </div>\n",
              "  </div>\n",
              "  "
            ]
          },
          "metadata": {},
          "execution_count": 27
        }
      ]
    },
    {
      "cell_type": "code",
      "source": [],
      "metadata": {
        "id": "n5KSLKEvlVoG"
      },
      "id": "n5KSLKEvlVoG",
      "execution_count": null,
      "outputs": []
    }
  ],
  "metadata": {
    "kernelspec": {
      "display_name": "Python 3",
      "language": "python",
      "name": "python3"
    },
    "language_info": {
      "codemirror_mode": {
        "name": "ipython",
        "version": 3
      },
      "file_extension": ".py",
      "mimetype": "text/x-python",
      "name": "python",
      "nbconvert_exporter": "python",
      "pygments_lexer": "ipython3",
      "version": "3.7.12"
    },
    "papermill": {
      "default_parameters": {},
      "duration": 12.259285,
      "end_time": "2022-12-23T13:46:07.186655",
      "environment_variables": {},
      "exception": null,
      "input_path": "__notebook__.ipynb",
      "output_path": "__notebook__.ipynb",
      "parameters": {},
      "start_time": "2022-12-23T13:45:54.927370",
      "version": "2.3.4"
    },
    "colab": {
      "provenance": [],
      "include_colab_link": true
    },
    "accelerator": "GPU",
    "gpuClass": "standard"
  },
  "nbformat": 4,
  "nbformat_minor": 5
}