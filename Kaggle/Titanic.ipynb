{
  "cells": [
    {
      "cell_type": "markdown",
      "metadata": {
        "id": "view-in-github",
        "colab_type": "text"
      },
      "source": [
        "<a href=\"https://colab.research.google.com/github/YuichH/ML/blob/main/Kaggle/Titanic.ipynb\" target=\"_parent\"><img src=\"https://colab.research.google.com/assets/colab-badge.svg\" alt=\"Open In Colab\"/></a>"
      ]
    },
    {
      "cell_type": "code",
      "execution_count": null,
      "id": "ba0b4016",
      "metadata": {
        "_cell_guid": "b1076dfc-b9ad-4769-8c92-a6c4dae69d19",
        "_uuid": "8f2839f25d086af736a60e9eeb907d3b93b6e0e5",
        "execution": {
          "iopub.execute_input": "2022-12-23T13:46:04.192143Z",
          "iopub.status.busy": "2022-12-23T13:46:04.191633Z",
          "iopub.status.idle": "2022-12-23T13:46:04.207493Z",
          "shell.execute_reply": "2022-12-23T13:46:04.205869Z"
        },
        "papermill": {
          "duration": 0.030127,
          "end_time": "2022-12-23T13:46:04.210182",
          "exception": false,
          "start_time": "2022-12-23T13:46:04.180055",
          "status": "completed"
        },
        "tags": [],
        "id": "ba0b4016",
        "outputId": "df4d2187-5f67-4ace-f3ca-f872181acaea"
      },
      "outputs": [
        {
          "name": "stdout",
          "output_type": "stream",
          "text": [
            "/kaggle/input/titanic/train.csv\n",
            "/kaggle/input/titanic/test.csv\n",
            "/kaggle/input/titanic/gender_submission.csv\n"
          ]
        }
      ],
      "source": [
        "# This Python 3 environment comes with many helpful analytics libraries installed\n",
        "# It is defined by the kaggle/python Docker image: https://github.com/kaggle/docker-python\n",
        "# For example, here's several helpful packages to load\n",
        "\n",
        "import numpy as np # linear algebra\n",
        "import pandas as pd # data processing, CSV file I/O (e.g. pd.read_csv)\n",
        "\n",
        "# Input data files are available in the read-only \"../input/\" directory\n",
        "# For example, running this (by clicking run or pressing Shift+Enter) will list all files under the input directory\n",
        "\n",
        "import os\n",
        "for dirname, _, filenames in os.walk('/kaggle/input'):\n",
        "    for filename in filenames:\n",
        "        print(os.path.join(dirname, filename))\n",
        "\n",
        "# You can write up to 20GB to the current directory (/kaggle/working/) that gets preserved as output when you create a version using \"Save & Run All\"\n",
        "# You can also write temporary files to /kaggle/temp/, but they won't be saved outside of the current session"
      ]
    },
    {
      "cell_type": "code",
      "execution_count": null,
      "id": "3c5dc4dd",
      "metadata": {
        "execution": {
          "iopub.execute_input": "2022-12-23T13:46:04.226196Z",
          "iopub.status.busy": "2022-12-23T13:46:04.225190Z",
          "iopub.status.idle": "2022-12-23T13:46:04.278635Z",
          "shell.execute_reply": "2022-12-23T13:46:04.277173Z"
        },
        "papermill": {
          "duration": 0.064601,
          "end_time": "2022-12-23T13:46:04.281263",
          "exception": false,
          "start_time": "2022-12-23T13:46:04.216662",
          "status": "completed"
        },
        "tags": [],
        "id": "3c5dc4dd",
        "outputId": "b1357c51-ba6a-4783-f6b0-ffce6a08970d"
      },
      "outputs": [
        {
          "data": {
            "text/html": [
              "<div>\n",
              "<style scoped>\n",
              "    .dataframe tbody tr th:only-of-type {\n",
              "        vertical-align: middle;\n",
              "    }\n",
              "\n",
              "    .dataframe tbody tr th {\n",
              "        vertical-align: top;\n",
              "    }\n",
              "\n",
              "    .dataframe thead th {\n",
              "        text-align: right;\n",
              "    }\n",
              "</style>\n",
              "<table border=\"1\" class=\"dataframe\">\n",
              "  <thead>\n",
              "    <tr style=\"text-align: right;\">\n",
              "      <th></th>\n",
              "      <th>PassengerId</th>\n",
              "      <th>Survived</th>\n",
              "      <th>Pclass</th>\n",
              "      <th>Name</th>\n",
              "      <th>Sex</th>\n",
              "      <th>Age</th>\n",
              "      <th>SibSp</th>\n",
              "      <th>Parch</th>\n",
              "      <th>Ticket</th>\n",
              "      <th>Fare</th>\n",
              "      <th>Cabin</th>\n",
              "      <th>Embarked</th>\n",
              "    </tr>\n",
              "  </thead>\n",
              "  <tbody>\n",
              "    <tr>\n",
              "      <th>0</th>\n",
              "      <td>1</td>\n",
              "      <td>0</td>\n",
              "      <td>3</td>\n",
              "      <td>Braund, Mr. Owen Harris</td>\n",
              "      <td>male</td>\n",
              "      <td>22.0</td>\n",
              "      <td>1</td>\n",
              "      <td>0</td>\n",
              "      <td>A/5 21171</td>\n",
              "      <td>7.2500</td>\n",
              "      <td>NaN</td>\n",
              "      <td>S</td>\n",
              "    </tr>\n",
              "    <tr>\n",
              "      <th>1</th>\n",
              "      <td>2</td>\n",
              "      <td>1</td>\n",
              "      <td>1</td>\n",
              "      <td>Cumings, Mrs. John Bradley (Florence Briggs Th...</td>\n",
              "      <td>female</td>\n",
              "      <td>38.0</td>\n",
              "      <td>1</td>\n",
              "      <td>0</td>\n",
              "      <td>PC 17599</td>\n",
              "      <td>71.2833</td>\n",
              "      <td>C85</td>\n",
              "      <td>C</td>\n",
              "    </tr>\n",
              "    <tr>\n",
              "      <th>2</th>\n",
              "      <td>3</td>\n",
              "      <td>1</td>\n",
              "      <td>3</td>\n",
              "      <td>Heikkinen, Miss. Laina</td>\n",
              "      <td>female</td>\n",
              "      <td>26.0</td>\n",
              "      <td>0</td>\n",
              "      <td>0</td>\n",
              "      <td>STON/O2. 3101282</td>\n",
              "      <td>7.9250</td>\n",
              "      <td>NaN</td>\n",
              "      <td>S</td>\n",
              "    </tr>\n",
              "    <tr>\n",
              "      <th>3</th>\n",
              "      <td>4</td>\n",
              "      <td>1</td>\n",
              "      <td>1</td>\n",
              "      <td>Futrelle, Mrs. Jacques Heath (Lily May Peel)</td>\n",
              "      <td>female</td>\n",
              "      <td>35.0</td>\n",
              "      <td>1</td>\n",
              "      <td>0</td>\n",
              "      <td>113803</td>\n",
              "      <td>53.1000</td>\n",
              "      <td>C123</td>\n",
              "      <td>S</td>\n",
              "    </tr>\n",
              "    <tr>\n",
              "      <th>4</th>\n",
              "      <td>5</td>\n",
              "      <td>0</td>\n",
              "      <td>3</td>\n",
              "      <td>Allen, Mr. William Henry</td>\n",
              "      <td>male</td>\n",
              "      <td>35.0</td>\n",
              "      <td>0</td>\n",
              "      <td>0</td>\n",
              "      <td>373450</td>\n",
              "      <td>8.0500</td>\n",
              "      <td>NaN</td>\n",
              "      <td>S</td>\n",
              "    </tr>\n",
              "  </tbody>\n",
              "</table>\n",
              "</div>"
            ],
            "text/plain": [
              "   PassengerId  Survived  Pclass  \\\n",
              "0            1         0       3   \n",
              "1            2         1       1   \n",
              "2            3         1       3   \n",
              "3            4         1       1   \n",
              "4            5         0       3   \n",
              "\n",
              "                                                Name     Sex   Age  SibSp  \\\n",
              "0                            Braund, Mr. Owen Harris    male  22.0      1   \n",
              "1  Cumings, Mrs. John Bradley (Florence Briggs Th...  female  38.0      1   \n",
              "2                             Heikkinen, Miss. Laina  female  26.0      0   \n",
              "3       Futrelle, Mrs. Jacques Heath (Lily May Peel)  female  35.0      1   \n",
              "4                           Allen, Mr. William Henry    male  35.0      0   \n",
              "\n",
              "   Parch            Ticket     Fare Cabin Embarked  \n",
              "0      0         A/5 21171   7.2500   NaN        S  \n",
              "1      0          PC 17599  71.2833   C85        C  \n",
              "2      0  STON/O2. 3101282   7.9250   NaN        S  \n",
              "3      0            113803  53.1000  C123        S  \n",
              "4      0            373450   8.0500   NaN        S  "
            ]
          },
          "execution_count": 2,
          "metadata": {},
          "output_type": "execute_result"
        }
      ],
      "source": [
        "train = pd.read_csv(\"/kaggle/input/titanic/train.csv\")\n",
        "train.head()"
      ]
    },
    {
      "cell_type": "code",
      "execution_count": null,
      "id": "8ff56c4a",
      "metadata": {
        "execution": {
          "iopub.execute_input": "2022-12-23T13:46:04.296203Z",
          "iopub.status.busy": "2022-12-23T13:46:04.295731Z",
          "iopub.status.idle": "2022-12-23T13:46:04.312240Z",
          "shell.execute_reply": "2022-12-23T13:46:04.311042Z"
        },
        "papermill": {
          "duration": 0.027117,
          "end_time": "2022-12-23T13:46:04.315010",
          "exception": false,
          "start_time": "2022-12-23T13:46:04.287893",
          "status": "completed"
        },
        "tags": [],
        "id": "8ff56c4a",
        "outputId": "b615c1f2-5911-4c1d-9245-1fa0823a9273"
      },
      "outputs": [
        {
          "data": {
            "text/html": [
              "<div>\n",
              "<style scoped>\n",
              "    .dataframe tbody tr th:only-of-type {\n",
              "        vertical-align: middle;\n",
              "    }\n",
              "\n",
              "    .dataframe tbody tr th {\n",
              "        vertical-align: top;\n",
              "    }\n",
              "\n",
              "    .dataframe thead th {\n",
              "        text-align: right;\n",
              "    }\n",
              "</style>\n",
              "<table border=\"1\" class=\"dataframe\">\n",
              "  <thead>\n",
              "    <tr style=\"text-align: right;\">\n",
              "      <th></th>\n",
              "      <th>PassengerId</th>\n",
              "      <th>Survived</th>\n",
              "    </tr>\n",
              "  </thead>\n",
              "  <tbody>\n",
              "    <tr>\n",
              "      <th>0</th>\n",
              "      <td>892</td>\n",
              "      <td>0</td>\n",
              "    </tr>\n",
              "    <tr>\n",
              "      <th>1</th>\n",
              "      <td>893</td>\n",
              "      <td>1</td>\n",
              "    </tr>\n",
              "    <tr>\n",
              "      <th>2</th>\n",
              "      <td>894</td>\n",
              "      <td>0</td>\n",
              "    </tr>\n",
              "    <tr>\n",
              "      <th>3</th>\n",
              "      <td>895</td>\n",
              "      <td>0</td>\n",
              "    </tr>\n",
              "    <tr>\n",
              "      <th>4</th>\n",
              "      <td>896</td>\n",
              "      <td>1</td>\n",
              "    </tr>\n",
              "  </tbody>\n",
              "</table>\n",
              "</div>"
            ],
            "text/plain": [
              "   PassengerId  Survived\n",
              "0          892         0\n",
              "1          893         1\n",
              "2          894         0\n",
              "3          895         0\n",
              "4          896         1"
            ]
          },
          "execution_count": 3,
          "metadata": {},
          "output_type": "execute_result"
        }
      ],
      "source": [
        "gender_submission = pd.read_csv(\"/kaggle/input/titanic/gender_submission.csv\")\n",
        "gender_submission.head()"
      ]
    },
    {
      "cell_type": "code",
      "execution_count": null,
      "id": "400c6915",
      "metadata": {
        "execution": {
          "iopub.execute_input": "2022-12-23T13:46:04.330750Z",
          "iopub.status.busy": "2022-12-23T13:46:04.330299Z",
          "iopub.status.idle": "2022-12-23T13:46:04.358768Z",
          "shell.execute_reply": "2022-12-23T13:46:04.357148Z"
        },
        "papermill": {
          "duration": 0.039928,
          "end_time": "2022-12-23T13:46:04.361701",
          "exception": false,
          "start_time": "2022-12-23T13:46:04.321773",
          "status": "completed"
        },
        "tags": [],
        "id": "400c6915",
        "outputId": "27b94527-fd92-440b-b52d-ecdc15d75e12"
      },
      "outputs": [
        {
          "data": {
            "text/html": [
              "<div>\n",
              "<style scoped>\n",
              "    .dataframe tbody tr th:only-of-type {\n",
              "        vertical-align: middle;\n",
              "    }\n",
              "\n",
              "    .dataframe tbody tr th {\n",
              "        vertical-align: top;\n",
              "    }\n",
              "\n",
              "    .dataframe thead th {\n",
              "        text-align: right;\n",
              "    }\n",
              "</style>\n",
              "<table border=\"1\" class=\"dataframe\">\n",
              "  <thead>\n",
              "    <tr style=\"text-align: right;\">\n",
              "      <th></th>\n",
              "      <th>PassengerId</th>\n",
              "      <th>Pclass</th>\n",
              "      <th>Name</th>\n",
              "      <th>Sex</th>\n",
              "      <th>Age</th>\n",
              "      <th>SibSp</th>\n",
              "      <th>Parch</th>\n",
              "      <th>Ticket</th>\n",
              "      <th>Fare</th>\n",
              "      <th>Cabin</th>\n",
              "      <th>Embarked</th>\n",
              "    </tr>\n",
              "  </thead>\n",
              "  <tbody>\n",
              "    <tr>\n",
              "      <th>0</th>\n",
              "      <td>892</td>\n",
              "      <td>3</td>\n",
              "      <td>Kelly, Mr. James</td>\n",
              "      <td>male</td>\n",
              "      <td>34.5</td>\n",
              "      <td>0</td>\n",
              "      <td>0</td>\n",
              "      <td>330911</td>\n",
              "      <td>7.8292</td>\n",
              "      <td>NaN</td>\n",
              "      <td>Q</td>\n",
              "    </tr>\n",
              "    <tr>\n",
              "      <th>1</th>\n",
              "      <td>893</td>\n",
              "      <td>3</td>\n",
              "      <td>Wilkes, Mrs. James (Ellen Needs)</td>\n",
              "      <td>female</td>\n",
              "      <td>47.0</td>\n",
              "      <td>1</td>\n",
              "      <td>0</td>\n",
              "      <td>363272</td>\n",
              "      <td>7.0000</td>\n",
              "      <td>NaN</td>\n",
              "      <td>S</td>\n",
              "    </tr>\n",
              "    <tr>\n",
              "      <th>2</th>\n",
              "      <td>894</td>\n",
              "      <td>2</td>\n",
              "      <td>Myles, Mr. Thomas Francis</td>\n",
              "      <td>male</td>\n",
              "      <td>62.0</td>\n",
              "      <td>0</td>\n",
              "      <td>0</td>\n",
              "      <td>240276</td>\n",
              "      <td>9.6875</td>\n",
              "      <td>NaN</td>\n",
              "      <td>Q</td>\n",
              "    </tr>\n",
              "    <tr>\n",
              "      <th>3</th>\n",
              "      <td>895</td>\n",
              "      <td>3</td>\n",
              "      <td>Wirz, Mr. Albert</td>\n",
              "      <td>male</td>\n",
              "      <td>27.0</td>\n",
              "      <td>0</td>\n",
              "      <td>0</td>\n",
              "      <td>315154</td>\n",
              "      <td>8.6625</td>\n",
              "      <td>NaN</td>\n",
              "      <td>S</td>\n",
              "    </tr>\n",
              "    <tr>\n",
              "      <th>4</th>\n",
              "      <td>896</td>\n",
              "      <td>3</td>\n",
              "      <td>Hirvonen, Mrs. Alexander (Helga E Lindqvist)</td>\n",
              "      <td>female</td>\n",
              "      <td>22.0</td>\n",
              "      <td>1</td>\n",
              "      <td>1</td>\n",
              "      <td>3101298</td>\n",
              "      <td>12.2875</td>\n",
              "      <td>NaN</td>\n",
              "      <td>S</td>\n",
              "    </tr>\n",
              "  </tbody>\n",
              "</table>\n",
              "</div>"
            ],
            "text/plain": [
              "   PassengerId  Pclass                                          Name     Sex  \\\n",
              "0          892       3                              Kelly, Mr. James    male   \n",
              "1          893       3              Wilkes, Mrs. James (Ellen Needs)  female   \n",
              "2          894       2                     Myles, Mr. Thomas Francis    male   \n",
              "3          895       3                              Wirz, Mr. Albert    male   \n",
              "4          896       3  Hirvonen, Mrs. Alexander (Helga E Lindqvist)  female   \n",
              "\n",
              "    Age  SibSp  Parch   Ticket     Fare Cabin Embarked  \n",
              "0  34.5      0      0   330911   7.8292   NaN        Q  \n",
              "1  47.0      1      0   363272   7.0000   NaN        S  \n",
              "2  62.0      0      0   240276   9.6875   NaN        Q  \n",
              "3  27.0      0      0   315154   8.6625   NaN        S  \n",
              "4  22.0      1      1  3101298  12.2875   NaN        S  "
            ]
          },
          "execution_count": 4,
          "metadata": {},
          "output_type": "execute_result"
        }
      ],
      "source": [
        "test = pd.read_csv(\"/kaggle/input/titanic/test.csv\")\n",
        "test.head()"
      ]
    },
    {
      "cell_type": "code",
      "execution_count": null,
      "id": "8d108708",
      "metadata": {
        "execution": {
          "iopub.execute_input": "2022-12-23T13:46:04.379156Z",
          "iopub.status.busy": "2022-12-23T13:46:04.378589Z",
          "iopub.status.idle": "2022-12-23T13:46:04.404812Z",
          "shell.execute_reply": "2022-12-23T13:46:04.403459Z"
        },
        "papermill": {
          "duration": 0.039313,
          "end_time": "2022-12-23T13:46:04.408245",
          "exception": false,
          "start_time": "2022-12-23T13:46:04.368932",
          "status": "completed"
        },
        "tags": [],
        "id": "8d108708",
        "outputId": "ebe9c157-e57a-40ff-bea7-f34b03bc81f4"
      },
      "outputs": [
        {
          "name": "stdout",
          "output_type": "stream",
          "text": [
            "<class 'pandas.core.frame.DataFrame'>\n",
            "RangeIndex: 891 entries, 0 to 890\n",
            "Data columns (total 12 columns):\n",
            " #   Column       Non-Null Count  Dtype  \n",
            "---  ------       --------------  -----  \n",
            " 0   PassengerId  891 non-null    int64  \n",
            " 1   Survived     891 non-null    int64  \n",
            " 2   Pclass       891 non-null    int64  \n",
            " 3   Name         891 non-null    object \n",
            " 4   Sex          891 non-null    object \n",
            " 5   Age          714 non-null    float64\n",
            " 6   SibSp        891 non-null    int64  \n",
            " 7   Parch        891 non-null    int64  \n",
            " 8   Ticket       891 non-null    object \n",
            " 9   Fare         891 non-null    float64\n",
            " 10  Cabin        204 non-null    object \n",
            " 11  Embarked     889 non-null    object \n",
            "dtypes: float64(2), int64(5), object(5)\n",
            "memory usage: 83.7+ KB\n"
          ]
        }
      ],
      "source": [
        "train.info()"
      ]
    },
    {
      "cell_type": "code",
      "execution_count": null,
      "id": "98d5e4b5",
      "metadata": {
        "execution": {
          "iopub.execute_input": "2022-12-23T13:46:04.424460Z",
          "iopub.status.busy": "2022-12-23T13:46:04.423993Z",
          "iopub.status.idle": "2022-12-23T13:46:04.435798Z",
          "shell.execute_reply": "2022-12-23T13:46:04.434356Z"
        },
        "papermill": {
          "duration": 0.023295,
          "end_time": "2022-12-23T13:46:04.438902",
          "exception": false,
          "start_time": "2022-12-23T13:46:04.415607",
          "status": "completed"
        },
        "tags": [],
        "id": "98d5e4b5",
        "outputId": "5a80815e-1938-4d54-f1d3-9271001e52b0"
      },
      "outputs": [
        {
          "data": {
            "text/plain": [
              "PassengerId      0\n",
              "Survived         0\n",
              "Pclass           0\n",
              "Name             0\n",
              "Sex              0\n",
              "Age            177\n",
              "SibSp            0\n",
              "Parch            0\n",
              "Ticket           0\n",
              "Fare             0\n",
              "Cabin          687\n",
              "Embarked         2\n",
              "dtype: int64"
            ]
          },
          "execution_count": 6,
          "metadata": {},
          "output_type": "execute_result"
        }
      ],
      "source": [
        "train.isnull().sum()"
      ]
    },
    {
      "cell_type": "code",
      "execution_count": null,
      "id": "b73a8b71",
      "metadata": {
        "execution": {
          "iopub.execute_input": "2022-12-23T13:46:04.456852Z",
          "iopub.status.busy": "2022-12-23T13:46:04.456436Z",
          "iopub.status.idle": "2022-12-23T13:46:04.488006Z",
          "shell.execute_reply": "2022-12-23T13:46:04.486363Z"
        },
        "papermill": {
          "duration": 0.043282,
          "end_time": "2022-12-23T13:46:04.490792",
          "exception": false,
          "start_time": "2022-12-23T13:46:04.447510",
          "status": "completed"
        },
        "tags": [],
        "id": "b73a8b71",
        "outputId": "7afc0b81-ab09-439f-8d5c-b791e43fd290"
      },
      "outputs": [
        {
          "data": {
            "text/plain": [
              "PassengerId    0\n",
              "Survived       0\n",
              "Pclass         0\n",
              "Age            0\n",
              "SibSp          0\n",
              "Parch          0\n",
              "Fare           0\n",
              "Sex_female     0\n",
              "Sex_male       0\n",
              "Embarked_C     0\n",
              "Embarked_Q     0\n",
              "Embarked_S     0\n",
              "dtype: int64"
            ]
          },
          "execution_count": 7,
          "metadata": {},
          "output_type": "execute_result"
        }
      ],
      "source": [
        "train = pd.get_dummies(train, columns=['Sex', 'Embarked'])\n",
        "train = train.drop(\"Name\", axis=1)\n",
        "train = train.drop(\"Cabin\", axis=1)\n",
        "train = train.drop(\"Ticket\", axis=1)\n",
        "train['Fare'] = train['Fare'].fillna(train['Fare'].median())\n",
        "train['Age'] = train['Age'].fillna(train['Age'].median())\n",
        "train.isnull().sum()"
      ]
    },
    {
      "cell_type": "code",
      "execution_count": null,
      "id": "5dfce32d",
      "metadata": {
        "execution": {
          "iopub.execute_input": "2022-12-23T13:46:04.509156Z",
          "iopub.status.busy": "2022-12-23T13:46:04.508677Z",
          "iopub.status.idle": "2022-12-23T13:46:04.527865Z",
          "shell.execute_reply": "2022-12-23T13:46:04.526165Z"
        },
        "papermill": {
          "duration": 0.033191,
          "end_time": "2022-12-23T13:46:04.531312",
          "exception": false,
          "start_time": "2022-12-23T13:46:04.498121",
          "status": "completed"
        },
        "tags": [],
        "id": "5dfce32d",
        "outputId": "a13099cd-477c-47d8-fe4d-52155f716712"
      },
      "outputs": [
        {
          "data": {
            "text/html": [
              "<div>\n",
              "<style scoped>\n",
              "    .dataframe tbody tr th:only-of-type {\n",
              "        vertical-align: middle;\n",
              "    }\n",
              "\n",
              "    .dataframe tbody tr th {\n",
              "        vertical-align: top;\n",
              "    }\n",
              "\n",
              "    .dataframe thead th {\n",
              "        text-align: right;\n",
              "    }\n",
              "</style>\n",
              "<table border=\"1\" class=\"dataframe\">\n",
              "  <thead>\n",
              "    <tr style=\"text-align: right;\">\n",
              "      <th></th>\n",
              "      <th>Pclass</th>\n",
              "      <th>Age</th>\n",
              "      <th>SibSp</th>\n",
              "      <th>Parch</th>\n",
              "      <th>Fare</th>\n",
              "      <th>Sex_female</th>\n",
              "      <th>Sex_male</th>\n",
              "      <th>Embarked_C</th>\n",
              "      <th>Embarked_Q</th>\n",
              "      <th>Embarked_S</th>\n",
              "    </tr>\n",
              "  </thead>\n",
              "  <tbody>\n",
              "    <tr>\n",
              "      <th>0</th>\n",
              "      <td>3</td>\n",
              "      <td>22.0</td>\n",
              "      <td>1</td>\n",
              "      <td>0</td>\n",
              "      <td>7.2500</td>\n",
              "      <td>0</td>\n",
              "      <td>1</td>\n",
              "      <td>0</td>\n",
              "      <td>0</td>\n",
              "      <td>1</td>\n",
              "    </tr>\n",
              "    <tr>\n",
              "      <th>1</th>\n",
              "      <td>1</td>\n",
              "      <td>38.0</td>\n",
              "      <td>1</td>\n",
              "      <td>0</td>\n",
              "      <td>71.2833</td>\n",
              "      <td>1</td>\n",
              "      <td>0</td>\n",
              "      <td>1</td>\n",
              "      <td>0</td>\n",
              "      <td>0</td>\n",
              "    </tr>\n",
              "    <tr>\n",
              "      <th>2</th>\n",
              "      <td>3</td>\n",
              "      <td>26.0</td>\n",
              "      <td>0</td>\n",
              "      <td>0</td>\n",
              "      <td>7.9250</td>\n",
              "      <td>1</td>\n",
              "      <td>0</td>\n",
              "      <td>0</td>\n",
              "      <td>0</td>\n",
              "      <td>1</td>\n",
              "    </tr>\n",
              "    <tr>\n",
              "      <th>3</th>\n",
              "      <td>1</td>\n",
              "      <td>35.0</td>\n",
              "      <td>1</td>\n",
              "      <td>0</td>\n",
              "      <td>53.1000</td>\n",
              "      <td>1</td>\n",
              "      <td>0</td>\n",
              "      <td>0</td>\n",
              "      <td>0</td>\n",
              "      <td>1</td>\n",
              "    </tr>\n",
              "    <tr>\n",
              "      <th>4</th>\n",
              "      <td>3</td>\n",
              "      <td>35.0</td>\n",
              "      <td>0</td>\n",
              "      <td>0</td>\n",
              "      <td>8.0500</td>\n",
              "      <td>0</td>\n",
              "      <td>1</td>\n",
              "      <td>0</td>\n",
              "      <td>0</td>\n",
              "      <td>1</td>\n",
              "    </tr>\n",
              "  </tbody>\n",
              "</table>\n",
              "</div>"
            ],
            "text/plain": [
              "   Pclass   Age  SibSp  Parch     Fare  Sex_female  Sex_male  Embarked_C  \\\n",
              "0       3  22.0      1      0   7.2500           0         1           0   \n",
              "1       1  38.0      1      0  71.2833           1         0           1   \n",
              "2       3  26.0      0      0   7.9250           1         0           0   \n",
              "3       1  35.0      1      0  53.1000           1         0           0   \n",
              "4       3  35.0      0      0   8.0500           0         1           0   \n",
              "\n",
              "   Embarked_Q  Embarked_S  \n",
              "0           0           1  \n",
              "1           0           0  \n",
              "2           0           1  \n",
              "3           0           1  \n",
              "4           0           1  "
            ]
          },
          "execution_count": 8,
          "metadata": {},
          "output_type": "execute_result"
        }
      ],
      "source": [
        "X_train = train.drop('PassengerId', axis=1)\n",
        "X_train = X_train.drop('Survived', axis=1)\n",
        "X_train.head()"
      ]
    },
    {
      "cell_type": "code",
      "execution_count": null,
      "id": "ff8122bb",
      "metadata": {
        "execution": {
          "iopub.execute_input": "2022-12-23T13:46:04.550224Z",
          "iopub.status.busy": "2022-12-23T13:46:04.549324Z",
          "iopub.status.idle": "2022-12-23T13:46:04.558470Z",
          "shell.execute_reply": "2022-12-23T13:46:04.557294Z"
        },
        "papermill": {
          "duration": 0.02123,
          "end_time": "2022-12-23T13:46:04.560889",
          "exception": false,
          "start_time": "2022-12-23T13:46:04.539659",
          "status": "completed"
        },
        "tags": [],
        "id": "ff8122bb",
        "outputId": "d5a4c3fa-e9f6-46cd-ae61-cea5f44fdc08"
      },
      "outputs": [
        {
          "data": {
            "text/plain": [
              "0    0\n",
              "1    1\n",
              "2    1\n",
              "3    1\n",
              "4    0\n",
              "Name: Survived, dtype: int64"
            ]
          },
          "execution_count": 9,
          "metadata": {},
          "output_type": "execute_result"
        }
      ],
      "source": [
        "y_train = train[\"Survived\"]\n",
        "y_train.head()"
      ]
    },
    {
      "cell_type": "code",
      "execution_count": null,
      "id": "6ac7276c",
      "metadata": {
        "execution": {
          "iopub.execute_input": "2022-12-23T13:46:04.580335Z",
          "iopub.status.busy": "2022-12-23T13:46:04.579917Z",
          "iopub.status.idle": "2022-12-23T13:46:05.823618Z",
          "shell.execute_reply": "2022-12-23T13:46:05.822198Z"
        },
        "papermill": {
          "duration": 1.257288,
          "end_time": "2022-12-23T13:46:05.826463",
          "exception": false,
          "start_time": "2022-12-23T13:46:04.569175",
          "status": "completed"
        },
        "tags": [],
        "id": "6ac7276c",
        "outputId": "910d0c0c-84c8-4036-a9fc-e41275fd3e1e"
      },
      "outputs": [
        {
          "data": {
            "text/plain": [
              "RandomForestClassifier(n_estimators=3, random_state=0)"
            ]
          },
          "execution_count": 10,
          "metadata": {},
          "output_type": "execute_result"
        }
      ],
      "source": [
        "from sklearn.ensemble import RandomForestClassifier\n",
        "model = RandomForestClassifier(n_estimators=3,random_state=0)\n",
        "model.fit(X_train,y_train)"
      ]
    },
    {
      "cell_type": "code",
      "execution_count": null,
      "id": "e58b9231",
      "metadata": {
        "execution": {
          "iopub.execute_input": "2022-12-23T13:46:05.845942Z",
          "iopub.status.busy": "2022-12-23T13:46:05.845481Z",
          "iopub.status.idle": "2022-12-23T13:46:05.921980Z",
          "shell.execute_reply": "2022-12-23T13:46:05.920755Z"
        },
        "papermill": {
          "duration": 0.08859,
          "end_time": "2022-12-23T13:46:05.924746",
          "exception": false,
          "start_time": "2022-12-23T13:46:05.836156",
          "status": "completed"
        },
        "tags": [],
        "id": "e58b9231"
      },
      "outputs": [],
      "source": [
        "from sklearn.model_selection import cross_val_score\n",
        "cv_model_titanic = cross_val_score(model,X_train,y_train,cv=5)"
      ]
    },
    {
      "cell_type": "code",
      "execution_count": null,
      "id": "c36f339d",
      "metadata": {
        "execution": {
          "iopub.execute_input": "2022-12-23T13:46:05.944501Z",
          "iopub.status.busy": "2022-12-23T13:46:05.943748Z",
          "iopub.status.idle": "2022-12-23T13:46:05.950810Z",
          "shell.execute_reply": "2022-12-23T13:46:05.949127Z"
        },
        "papermill": {
          "duration": 0.020596,
          "end_time": "2022-12-23T13:46:05.953941",
          "exception": false,
          "start_time": "2022-12-23T13:46:05.933345",
          "status": "completed"
        },
        "tags": [],
        "id": "c36f339d",
        "outputId": "3a78cc33-bf81-427d-a88c-2534af8f9f54"
      },
      "outputs": [
        {
          "name": "stdout",
          "output_type": "stream",
          "text": [
            "0.80023225158496\n",
            "0.020512221540308226\n"
          ]
        }
      ],
      "source": [
        "print(cv_model_titanic.mean())\n",
        "print(cv_model_titanic.std())"
      ]
    },
    {
      "cell_type": "code",
      "execution_count": null,
      "id": "97f16d7c",
      "metadata": {
        "execution": {
          "iopub.execute_input": "2022-12-23T13:46:05.971722Z",
          "iopub.status.busy": "2022-12-23T13:46:05.971303Z",
          "iopub.status.idle": "2022-12-23T13:46:05.991599Z",
          "shell.execute_reply": "2022-12-23T13:46:05.990184Z"
        },
        "papermill": {
          "duration": 0.032886,
          "end_time": "2022-12-23T13:46:05.994699",
          "exception": false,
          "start_time": "2022-12-23T13:46:05.961813",
          "status": "completed"
        },
        "tags": [],
        "id": "97f16d7c",
        "outputId": "025e2ddd-200f-4523-ec4d-53709bc4ddad"
      },
      "outputs": [
        {
          "name": "stdout",
          "output_type": "stream",
          "text": [
            "タイタニックデータにおける精度，正解率（Accuracy）は 0.9393939393939394\n",
            "タイタニックデータにおける再現率（recall）は 0.8947368421052632\n",
            "タイタニックデータにおける適合率（precision）は 0.9444444444444444\n",
            "タイタニックデータにおけるF値（f1 value）は 0.918918918918919\n"
          ]
        }
      ],
      "source": [
        "from sklearn.metrics import accuracy_score,recall_score,precision_score,f1_score\n",
        "x_train_prediction = model.predict(X_train)\n",
        "print(\"タイタニックデータにおける精度，正解率（Accuracy）は\",accuracy_score(y_train,x_train_prediction))\n",
        "print(\"タイタニックデータにおける再現率（recall）は\",recall_score(y_train,x_train_prediction))\n",
        "print(\"タイタニックデータにおける適合率（precision）は\",precision_score(y_train,x_train_prediction))\n",
        "print(\"タイタニックデータにおけるF値（f1 value）は\",f1_score(y_train,x_train_prediction))"
      ]
    },
    {
      "cell_type": "code",
      "execution_count": null,
      "id": "1e74bac4",
      "metadata": {
        "execution": {
          "iopub.execute_input": "2022-12-23T13:46:06.012651Z",
          "iopub.status.busy": "2022-12-23T13:46:06.011567Z",
          "iopub.status.idle": "2022-12-23T13:46:06.026558Z",
          "shell.execute_reply": "2022-12-23T13:46:06.025152Z"
        },
        "papermill": {
          "duration": 0.027195,
          "end_time": "2022-12-23T13:46:06.029765",
          "exception": false,
          "start_time": "2022-12-23T13:46:06.002570",
          "status": "completed"
        },
        "tags": [],
        "id": "1e74bac4",
        "outputId": "05653ded-287a-4131-a855-6cb1671e726f"
      },
      "outputs": [
        {
          "name": "stdout",
          "output_type": "stream",
          "text": [
            "<class 'pandas.core.frame.DataFrame'>\n",
            "RangeIndex: 418 entries, 0 to 417\n",
            "Data columns (total 11 columns):\n",
            " #   Column       Non-Null Count  Dtype  \n",
            "---  ------       --------------  -----  \n",
            " 0   PassengerId  418 non-null    int64  \n",
            " 1   Pclass       418 non-null    int64  \n",
            " 2   Name         418 non-null    object \n",
            " 3   Sex          418 non-null    object \n",
            " 4   Age          332 non-null    float64\n",
            " 5   SibSp        418 non-null    int64  \n",
            " 6   Parch        418 non-null    int64  \n",
            " 7   Ticket       418 non-null    object \n",
            " 8   Fare         417 non-null    float64\n",
            " 9   Cabin        91 non-null     object \n",
            " 10  Embarked     418 non-null    object \n",
            "dtypes: float64(2), int64(4), object(5)\n",
            "memory usage: 36.0+ KB\n"
          ]
        }
      ],
      "source": [
        "test.info()"
      ]
    },
    {
      "cell_type": "code",
      "execution_count": null,
      "id": "438d045b",
      "metadata": {
        "execution": {
          "iopub.execute_input": "2022-12-23T13:46:06.048369Z",
          "iopub.status.busy": "2022-12-23T13:46:06.047932Z",
          "iopub.status.idle": "2022-12-23T13:46:06.057983Z",
          "shell.execute_reply": "2022-12-23T13:46:06.056908Z"
        },
        "papermill": {
          "duration": 0.022891,
          "end_time": "2022-12-23T13:46:06.060742",
          "exception": false,
          "start_time": "2022-12-23T13:46:06.037851",
          "status": "completed"
        },
        "tags": [],
        "id": "438d045b",
        "outputId": "484a270d-cdae-4de6-f6af-81757c0059ab"
      },
      "outputs": [
        {
          "data": {
            "text/plain": [
              "PassengerId      0\n",
              "Pclass           0\n",
              "Name             0\n",
              "Sex              0\n",
              "Age             86\n",
              "SibSp            0\n",
              "Parch            0\n",
              "Ticket           0\n",
              "Fare             1\n",
              "Cabin          327\n",
              "Embarked         0\n",
              "dtype: int64"
            ]
          },
          "execution_count": 15,
          "metadata": {},
          "output_type": "execute_result"
        }
      ],
      "source": [
        "test.isnull().sum()"
      ]
    },
    {
      "cell_type": "code",
      "execution_count": null,
      "id": "3c9d1bc1",
      "metadata": {
        "execution": {
          "iopub.execute_input": "2022-12-23T13:46:06.081779Z",
          "iopub.status.busy": "2022-12-23T13:46:06.081044Z",
          "iopub.status.idle": "2022-12-23T13:46:06.107772Z",
          "shell.execute_reply": "2022-12-23T13:46:06.105961Z"
        },
        "papermill": {
          "duration": 0.042338,
          "end_time": "2022-12-23T13:46:06.112468",
          "exception": false,
          "start_time": "2022-12-23T13:46:06.070130",
          "status": "completed"
        },
        "tags": [],
        "id": "3c9d1bc1",
        "outputId": "3fc4d774-2e47-4e58-e2a1-4a5a2054d360"
      },
      "outputs": [
        {
          "data": {
            "text/plain": [
              "PassengerId    0\n",
              "Pclass         0\n",
              "Age            0\n",
              "SibSp          0\n",
              "Parch          0\n",
              "Fare           0\n",
              "Sex_female     0\n",
              "Sex_male       0\n",
              "Embarked_C     0\n",
              "Embarked_Q     0\n",
              "Embarked_S     0\n",
              "dtype: int64"
            ]
          },
          "execution_count": 16,
          "metadata": {},
          "output_type": "execute_result"
        }
      ],
      "source": [
        "test = pd.get_dummies(test, columns=['Sex', 'Embarked'])\n",
        "test = test.drop(\"Name\", axis=1)\n",
        "test = test.drop(\"Cabin\", axis=1)\n",
        "test = test.drop(\"Ticket\", axis=1)\n",
        "test['Fare'] = test['Fare'].fillna(test['Fare'].median())\n",
        "test['Age'] = test['Age'].fillna(test['Age'].median())\n",
        "test.isnull().sum()"
      ]
    },
    {
      "cell_type": "code",
      "execution_count": null,
      "id": "49fbcbfa",
      "metadata": {
        "execution": {
          "iopub.execute_input": "2022-12-23T13:46:06.135444Z",
          "iopub.status.busy": "2022-12-23T13:46:06.133875Z",
          "iopub.status.idle": "2022-12-23T13:46:06.159567Z",
          "shell.execute_reply": "2022-12-23T13:46:06.158132Z"
        },
        "papermill": {
          "duration": 0.040238,
          "end_time": "2022-12-23T13:46:06.162986",
          "exception": false,
          "start_time": "2022-12-23T13:46:06.122748",
          "status": "completed"
        },
        "tags": [],
        "id": "49fbcbfa",
        "outputId": "13cfc6ae-edab-4246-ae96-ab01e24a2d99"
      },
      "outputs": [
        {
          "data": {
            "text/html": [
              "<div>\n",
              "<style scoped>\n",
              "    .dataframe tbody tr th:only-of-type {\n",
              "        vertical-align: middle;\n",
              "    }\n",
              "\n",
              "    .dataframe tbody tr th {\n",
              "        vertical-align: top;\n",
              "    }\n",
              "\n",
              "    .dataframe thead th {\n",
              "        text-align: right;\n",
              "    }\n",
              "</style>\n",
              "<table border=\"1\" class=\"dataframe\">\n",
              "  <thead>\n",
              "    <tr style=\"text-align: right;\">\n",
              "      <th></th>\n",
              "      <th>Pclass</th>\n",
              "      <th>Age</th>\n",
              "      <th>SibSp</th>\n",
              "      <th>Parch</th>\n",
              "      <th>Fare</th>\n",
              "      <th>Sex_female</th>\n",
              "      <th>Sex_male</th>\n",
              "      <th>Embarked_C</th>\n",
              "      <th>Embarked_Q</th>\n",
              "      <th>Embarked_S</th>\n",
              "    </tr>\n",
              "  </thead>\n",
              "  <tbody>\n",
              "    <tr>\n",
              "      <th>0</th>\n",
              "      <td>3</td>\n",
              "      <td>34.5</td>\n",
              "      <td>0</td>\n",
              "      <td>0</td>\n",
              "      <td>7.8292</td>\n",
              "      <td>0</td>\n",
              "      <td>1</td>\n",
              "      <td>0</td>\n",
              "      <td>1</td>\n",
              "      <td>0</td>\n",
              "    </tr>\n",
              "    <tr>\n",
              "      <th>1</th>\n",
              "      <td>3</td>\n",
              "      <td>47.0</td>\n",
              "      <td>1</td>\n",
              "      <td>0</td>\n",
              "      <td>7.0000</td>\n",
              "      <td>1</td>\n",
              "      <td>0</td>\n",
              "      <td>0</td>\n",
              "      <td>0</td>\n",
              "      <td>1</td>\n",
              "    </tr>\n",
              "    <tr>\n",
              "      <th>2</th>\n",
              "      <td>2</td>\n",
              "      <td>62.0</td>\n",
              "      <td>0</td>\n",
              "      <td>0</td>\n",
              "      <td>9.6875</td>\n",
              "      <td>0</td>\n",
              "      <td>1</td>\n",
              "      <td>0</td>\n",
              "      <td>1</td>\n",
              "      <td>0</td>\n",
              "    </tr>\n",
              "    <tr>\n",
              "      <th>3</th>\n",
              "      <td>3</td>\n",
              "      <td>27.0</td>\n",
              "      <td>0</td>\n",
              "      <td>0</td>\n",
              "      <td>8.6625</td>\n",
              "      <td>0</td>\n",
              "      <td>1</td>\n",
              "      <td>0</td>\n",
              "      <td>0</td>\n",
              "      <td>1</td>\n",
              "    </tr>\n",
              "    <tr>\n",
              "      <th>4</th>\n",
              "      <td>3</td>\n",
              "      <td>22.0</td>\n",
              "      <td>1</td>\n",
              "      <td>1</td>\n",
              "      <td>12.2875</td>\n",
              "      <td>1</td>\n",
              "      <td>0</td>\n",
              "      <td>0</td>\n",
              "      <td>0</td>\n",
              "      <td>1</td>\n",
              "    </tr>\n",
              "  </tbody>\n",
              "</table>\n",
              "</div>"
            ],
            "text/plain": [
              "   Pclass   Age  SibSp  Parch     Fare  Sex_female  Sex_male  Embarked_C  \\\n",
              "0       3  34.5      0      0   7.8292           0         1           0   \n",
              "1       3  47.0      1      0   7.0000           1         0           0   \n",
              "2       2  62.0      0      0   9.6875           0         1           0   \n",
              "3       3  27.0      0      0   8.6625           0         1           0   \n",
              "4       3  22.0      1      1  12.2875           1         0           0   \n",
              "\n",
              "   Embarked_Q  Embarked_S  \n",
              "0           1           0  \n",
              "1           0           1  \n",
              "2           1           0  \n",
              "3           0           1  \n",
              "4           0           1  "
            ]
          },
          "execution_count": 17,
          "metadata": {},
          "output_type": "execute_result"
        }
      ],
      "source": [
        "X_test = test.drop('PassengerId', axis=1)\n",
        "# X_test = test.drop('Survived', axis=1)\n",
        "X_test.head()"
      ]
    },
    {
      "cell_type": "code",
      "execution_count": null,
      "id": "70cee329",
      "metadata": {
        "execution": {
          "iopub.execute_input": "2022-12-23T13:46:06.186192Z",
          "iopub.status.busy": "2022-12-23T13:46:06.185670Z",
          "iopub.status.idle": "2022-12-23T13:46:06.197798Z",
          "shell.execute_reply": "2022-12-23T13:46:06.196833Z"
        },
        "papermill": {
          "duration": 0.026147,
          "end_time": "2022-12-23T13:46:06.200044",
          "exception": false,
          "start_time": "2022-12-23T13:46:06.173897",
          "status": "completed"
        },
        "tags": [],
        "id": "70cee329",
        "outputId": "562624ef-4c95-4f3c-b6c0-a2d034d4eeac"
      },
      "outputs": [
        {
          "data": {
            "text/plain": [
              "numpy.ndarray"
            ]
          },
          "execution_count": 18,
          "metadata": {},
          "output_type": "execute_result"
        }
      ],
      "source": [
        "prediction = model.predict(X_test)\n",
        "type(prediction)"
      ]
    },
    {
      "cell_type": "code",
      "execution_count": null,
      "id": "b018c22d",
      "metadata": {
        "execution": {
          "iopub.execute_input": "2022-12-23T13:46:06.219703Z",
          "iopub.status.busy": "2022-12-23T13:46:06.218594Z",
          "iopub.status.idle": "2022-12-23T13:46:06.227206Z",
          "shell.execute_reply": "2022-12-23T13:46:06.225926Z"
        },
        "papermill": {
          "duration": 0.021047,
          "end_time": "2022-12-23T13:46:06.229582",
          "exception": false,
          "start_time": "2022-12-23T13:46:06.208535",
          "status": "completed"
        },
        "tags": [],
        "id": "b018c22d",
        "outputId": "86ebca40-2186-4a37-b473-1d91a7907ec6"
      },
      "outputs": [
        {
          "data": {
            "text/plain": [
              "numpy.ndarray"
            ]
          },
          "execution_count": 19,
          "metadata": {},
          "output_type": "execute_result"
        }
      ],
      "source": [
        "PassengerId = np.array(test[\"PassengerId\"]).astype(int)\n",
        "type(PassengerId)"
      ]
    },
    {
      "cell_type": "code",
      "execution_count": null,
      "id": "a0e1c8f0",
      "metadata": {
        "execution": {
          "iopub.execute_input": "2022-12-23T13:46:06.250154Z",
          "iopub.status.busy": "2022-12-23T13:46:06.249403Z",
          "iopub.status.idle": "2022-12-23T13:46:06.264259Z",
          "shell.execute_reply": "2022-12-23T13:46:06.262921Z"
        },
        "papermill": {
          "duration": 0.028192,
          "end_time": "2022-12-23T13:46:06.266866",
          "exception": false,
          "start_time": "2022-12-23T13:46:06.238674",
          "status": "completed"
        },
        "tags": [],
        "id": "a0e1c8f0",
        "outputId": "8cb5e158-0a0c-4b45-8e02-eb0f37578105"
      },
      "outputs": [
        {
          "data": {
            "text/plain": [
              "array([[ 892,    0],\n",
              "       [ 893,    0],\n",
              "       [ 894,    0],\n",
              "       [ 895,    0],\n",
              "       [ 896,    0],\n",
              "       [ 897,    0],\n",
              "       [ 898,    1],\n",
              "       [ 899,    0],\n",
              "       [ 900,    1],\n",
              "       [ 901,    0],\n",
              "       [ 902,    0],\n",
              "       [ 903,    0],\n",
              "       [ 904,    1],\n",
              "       [ 905,    0],\n",
              "       [ 906,    1],\n",
              "       [ 907,    1],\n",
              "       [ 908,    0],\n",
              "       [ 909,    0],\n",
              "       [ 910,    0],\n",
              "       [ 911,    1],\n",
              "       [ 912,    1],\n",
              "       [ 913,    1],\n",
              "       [ 914,    1],\n",
              "       [ 915,    1],\n",
              "       [ 916,    1],\n",
              "       [ 917,    0],\n",
              "       [ 918,    1],\n",
              "       [ 919,    0],\n",
              "       [ 920,    1],\n",
              "       [ 921,    0],\n",
              "       [ 922,    0],\n",
              "       [ 923,    0],\n",
              "       [ 924,    1],\n",
              "       [ 925,    0],\n",
              "       [ 926,    0],\n",
              "       [ 927,    0],\n",
              "       [ 928,    1],\n",
              "       [ 929,    0],\n",
              "       [ 930,    0],\n",
              "       [ 931,    1],\n",
              "       [ 932,    0],\n",
              "       [ 933,    1],\n",
              "       [ 934,    0],\n",
              "       [ 935,    1],\n",
              "       [ 936,    1],\n",
              "       [ 937,    0],\n",
              "       [ 938,    1],\n",
              "       [ 939,    0],\n",
              "       [ 940,    1],\n",
              "       [ 941,    0],\n",
              "       [ 942,    0],\n",
              "       [ 943,    0],\n",
              "       [ 944,    1],\n",
              "       [ 945,    1],\n",
              "       [ 946,    0],\n",
              "       [ 947,    0],\n",
              "       [ 948,    0],\n",
              "       [ 949,    0],\n",
              "       [ 950,    0],\n",
              "       [ 951,    1],\n",
              "       [ 952,    0],\n",
              "       [ 953,    0],\n",
              "       [ 954,    0],\n",
              "       [ 955,    1],\n",
              "       [ 956,    0],\n",
              "       [ 957,    1],\n",
              "       [ 958,    1],\n",
              "       [ 959,    0],\n",
              "       [ 960,    0],\n",
              "       [ 961,    1],\n",
              "       [ 962,    1],\n",
              "       [ 963,    0],\n",
              "       [ 964,    0],\n",
              "       [ 965,    0],\n",
              "       [ 966,    1],\n",
              "       [ 967,    0],\n",
              "       [ 968,    0],\n",
              "       [ 969,    0],\n",
              "       [ 970,    0],\n",
              "       [ 971,    1],\n",
              "       [ 972,    1],\n",
              "       [ 973,    0],\n",
              "       [ 974,    0],\n",
              "       [ 975,    0],\n",
              "       [ 976,    0],\n",
              "       [ 977,    0],\n",
              "       [ 978,    1],\n",
              "       [ 979,    1],\n",
              "       [ 980,    1],\n",
              "       [ 981,    1],\n",
              "       [ 982,    0],\n",
              "       [ 983,    1],\n",
              "       [ 984,    1],\n",
              "       [ 985,    0],\n",
              "       [ 986,    0],\n",
              "       [ 987,    0],\n",
              "       [ 988,    1],\n",
              "       [ 989,    0],\n",
              "       [ 990,    1],\n",
              "       [ 991,    0],\n",
              "       [ 992,    1],\n",
              "       [ 993,    0],\n",
              "       [ 994,    0],\n",
              "       [ 995,    0],\n",
              "       [ 996,    0],\n",
              "       [ 997,    0],\n",
              "       [ 998,    0],\n",
              "       [ 999,    0],\n",
              "       [1000,    0],\n",
              "       [1001,    0],\n",
              "       [1002,    0],\n",
              "       [1003,    1],\n",
              "       [1004,    1],\n",
              "       [1005,    1],\n",
              "       [1006,    1],\n",
              "       [1007,    1],\n",
              "       [1008,    0],\n",
              "       [1009,    1],\n",
              "       [1010,    0],\n",
              "       [1011,    1],\n",
              "       [1012,    1],\n",
              "       [1013,    0],\n",
              "       [1014,    1],\n",
              "       [1015,    0],\n",
              "       [1016,    0],\n",
              "       [1017,    1],\n",
              "       [1018,    0],\n",
              "       [1019,    1],\n",
              "       [1020,    0],\n",
              "       [1021,    0],\n",
              "       [1022,    1],\n",
              "       [1023,    0],\n",
              "       [1024,    0],\n",
              "       [1025,    0],\n",
              "       [1026,    1],\n",
              "       [1027,    0],\n",
              "       [1028,    0],\n",
              "       [1029,    0],\n",
              "       [1030,    1],\n",
              "       [1031,    0],\n",
              "       [1032,    0],\n",
              "       [1033,    1],\n",
              "       [1034,    0],\n",
              "       [1035,    0],\n",
              "       [1036,    0],\n",
              "       [1037,    0],\n",
              "       [1038,    0],\n",
              "       [1039,    0],\n",
              "       [1040,    1],\n",
              "       [1041,    0],\n",
              "       [1042,    1],\n",
              "       [1043,    0],\n",
              "       [1044,    0],\n",
              "       [1045,    0],\n",
              "       [1046,    0],\n",
              "       [1047,    0],\n",
              "       [1048,    1],\n",
              "       [1049,    1],\n",
              "       [1050,    0],\n",
              "       [1051,    1],\n",
              "       [1052,    1],\n",
              "       [1053,    1],\n",
              "       [1054,    1],\n",
              "       [1055,    1],\n",
              "       [1056,    0],\n",
              "       [1057,    0],\n",
              "       [1058,    0],\n",
              "       [1059,    0],\n",
              "       [1060,    1],\n",
              "       [1061,    0],\n",
              "       [1062,    1],\n",
              "       [1063,    0],\n",
              "       [1064,    0],\n",
              "       [1065,    0],\n",
              "       [1066,    0],\n",
              "       [1067,    1],\n",
              "       [1068,    1],\n",
              "       [1069,    1],\n",
              "       [1070,    1],\n",
              "       [1071,    1],\n",
              "       [1072,    0],\n",
              "       [1073,    0],\n",
              "       [1074,    1],\n",
              "       [1075,    0],\n",
              "       [1076,    1],\n",
              "       [1077,    0],\n",
              "       [1078,    1],\n",
              "       [1079,    0],\n",
              "       [1080,    0],\n",
              "       [1081,    0],\n",
              "       [1082,    0],\n",
              "       [1083,    0],\n",
              "       [1084,    1],\n",
              "       [1085,    0],\n",
              "       [1086,    0],\n",
              "       [1087,    0],\n",
              "       [1088,    1],\n",
              "       [1089,    1],\n",
              "       [1090,    0],\n",
              "       [1091,    1],\n",
              "       [1092,    1],\n",
              "       [1093,    1],\n",
              "       [1094,    0],\n",
              "       [1095,    1],\n",
              "       [1096,    0],\n",
              "       [1097,    0],\n",
              "       [1098,    1],\n",
              "       [1099,    0],\n",
              "       [1100,    1],\n",
              "       [1101,    0],\n",
              "       [1102,    0],\n",
              "       [1103,    1],\n",
              "       [1104,    0],\n",
              "       [1105,    0],\n",
              "       [1106,    0],\n",
              "       [1107,    0],\n",
              "       [1108,    1],\n",
              "       [1109,    0],\n",
              "       [1110,    1],\n",
              "       [1111,    0],\n",
              "       [1112,    1],\n",
              "       [1113,    0],\n",
              "       [1114,    1],\n",
              "       [1115,    0],\n",
              "       [1116,    0],\n",
              "       [1117,    0],\n",
              "       [1118,    0],\n",
              "       [1119,    1],\n",
              "       [1120,    0],\n",
              "       [1121,    0],\n",
              "       [1122,    0],\n",
              "       [1123,    1],\n",
              "       [1124,    0],\n",
              "       [1125,    0],\n",
              "       [1126,    1],\n",
              "       [1127,    0],\n",
              "       [1128,    1],\n",
              "       [1129,    0],\n",
              "       [1130,    1],\n",
              "       [1131,    1],\n",
              "       [1132,    0],\n",
              "       [1133,    1],\n",
              "       [1134,    0],\n",
              "       [1135,    0],\n",
              "       [1136,    0],\n",
              "       [1137,    0],\n",
              "       [1138,    1],\n",
              "       [1139,    0],\n",
              "       [1140,    1],\n",
              "       [1141,    0],\n",
              "       [1142,    1],\n",
              "       [1143,    0],\n",
              "       [1144,    0],\n",
              "       [1145,    0],\n",
              "       [1146,    0],\n",
              "       [1147,    1],\n",
              "       [1148,    0],\n",
              "       [1149,    0],\n",
              "       [1150,    1],\n",
              "       [1151,    0],\n",
              "       [1152,    0],\n",
              "       [1153,    0],\n",
              "       [1154,    1],\n",
              "       [1155,    1],\n",
              "       [1156,    0],\n",
              "       [1157,    0],\n",
              "       [1158,    0],\n",
              "       [1159,    1],\n",
              "       [1160,    1],\n",
              "       [1161,    0],\n",
              "       [1162,    0],\n",
              "       [1163,    0],\n",
              "       [1164,    1],\n",
              "       [1165,    1],\n",
              "       [1166,    0],\n",
              "       [1167,    1],\n",
              "       [1168,    0],\n",
              "       [1169,    0],\n",
              "       [1170,    0],\n",
              "       [1171,    0],\n",
              "       [1172,    0],\n",
              "       [1173,    1],\n",
              "       [1174,    1],\n",
              "       [1175,    0],\n",
              "       [1176,    1],\n",
              "       [1177,    0],\n",
              "       [1178,    1],\n",
              "       [1179,    0],\n",
              "       [1180,    0],\n",
              "       [1181,    0],\n",
              "       [1182,    0],\n",
              "       [1183,    1],\n",
              "       [1184,    0],\n",
              "       [1185,    0],\n",
              "       [1186,    0],\n",
              "       [1187,    0],\n",
              "       [1188,    1],\n",
              "       [1189,    0],\n",
              "       [1190,    0],\n",
              "       [1191,    0],\n",
              "       [1192,    0],\n",
              "       [1193,    0],\n",
              "       [1194,    0],\n",
              "       [1195,    0],\n",
              "       [1196,    1],\n",
              "       [1197,    1],\n",
              "       [1198,    1],\n",
              "       [1199,    1],\n",
              "       [1200,    0],\n",
              "       [1201,    0],\n",
              "       [1202,    0],\n",
              "       [1203,    0],\n",
              "       [1204,    1],\n",
              "       [1205,    0],\n",
              "       [1206,    1],\n",
              "       [1207,    1],\n",
              "       [1208,    1],\n",
              "       [1209,    0],\n",
              "       [1210,    0],\n",
              "       [1211,    0],\n",
              "       [1212,    0],\n",
              "       [1213,    0],\n",
              "       [1214,    0],\n",
              "       [1215,    1],\n",
              "       [1216,    1],\n",
              "       [1217,    0],\n",
              "       [1218,    1],\n",
              "       [1219,    0],\n",
              "       [1220,    0],\n",
              "       [1221,    0],\n",
              "       [1222,    1],\n",
              "       [1223,    1],\n",
              "       [1224,    0],\n",
              "       [1225,    0],\n",
              "       [1226,    0],\n",
              "       [1227,    0],\n",
              "       [1228,    0],\n",
              "       [1229,    0],\n",
              "       [1230,    0],\n",
              "       [1231,    0],\n",
              "       [1232,    0],\n",
              "       [1233,    0],\n",
              "       [1234,    0],\n",
              "       [1235,    1],\n",
              "       [1236,    0],\n",
              "       [1237,    1],\n",
              "       [1238,    0],\n",
              "       [1239,    1],\n",
              "       [1240,    0],\n",
              "       [1241,    1],\n",
              "       [1242,    1],\n",
              "       [1243,    0],\n",
              "       [1244,    0],\n",
              "       [1245,    0],\n",
              "       [1246,    1],\n",
              "       [1247,    0],\n",
              "       [1248,    1],\n",
              "       [1249,    0],\n",
              "       [1250,    0],\n",
              "       [1251,    1],\n",
              "       [1252,    0],\n",
              "       [1253,    1],\n",
              "       [1254,    1],\n",
              "       [1255,    0],\n",
              "       [1256,    1],\n",
              "       [1257,    0],\n",
              "       [1258,    0],\n",
              "       [1259,    0],\n",
              "       [1260,    1],\n",
              "       [1261,    1],\n",
              "       [1262,    0],\n",
              "       [1263,    1],\n",
              "       [1264,    0],\n",
              "       [1265,    0],\n",
              "       [1266,    1],\n",
              "       [1267,    1],\n",
              "       [1268,    0],\n",
              "       [1269,    0],\n",
              "       [1270,    0],\n",
              "       [1271,    0],\n",
              "       [1272,    0],\n",
              "       [1273,    0],\n",
              "       [1274,    1],\n",
              "       [1275,    0],\n",
              "       [1276,    0],\n",
              "       [1277,    1],\n",
              "       [1278,    0],\n",
              "       [1279,    0],\n",
              "       [1280,    0],\n",
              "       [1281,    0],\n",
              "       [1282,    0],\n",
              "       [1283,    1],\n",
              "       [1284,    0],\n",
              "       [1285,    0],\n",
              "       [1286,    0],\n",
              "       [1287,    1],\n",
              "       [1288,    0],\n",
              "       [1289,    1],\n",
              "       [1290,    0],\n",
              "       [1291,    0],\n",
              "       [1292,    1],\n",
              "       [1293,    0],\n",
              "       [1294,    1],\n",
              "       [1295,    0],\n",
              "       [1296,    1],\n",
              "       [1297,    1],\n",
              "       [1298,    0],\n",
              "       [1299,    0],\n",
              "       [1300,    1],\n",
              "       [1301,    1],\n",
              "       [1302,    1],\n",
              "       [1303,    1],\n",
              "       [1304,    0],\n",
              "       [1305,    0],\n",
              "       [1306,    1],\n",
              "       [1307,    0],\n",
              "       [1308,    0],\n",
              "       [1309,    1]])"
            ]
          },
          "execution_count": 20,
          "metadata": {},
          "output_type": "execute_result"
        }
      ],
      "source": [
        "c = np.column_stack([PassengerId, prediction])\n",
        "c"
      ]
    },
    {
      "cell_type": "code",
      "execution_count": null,
      "id": "c91f5a16",
      "metadata": {
        "execution": {
          "iopub.execute_input": "2022-12-23T13:46:06.287187Z",
          "iopub.status.busy": "2022-12-23T13:46:06.286193Z",
          "iopub.status.idle": "2022-12-23T13:46:06.298328Z",
          "shell.execute_reply": "2022-12-23T13:46:06.297265Z"
        },
        "papermill": {
          "duration": 0.025034,
          "end_time": "2022-12-23T13:46:06.301122",
          "exception": false,
          "start_time": "2022-12-23T13:46:06.276088",
          "status": "completed"
        },
        "tags": [],
        "id": "c91f5a16",
        "outputId": "b4c48b96-906a-44de-ccc9-edec19d4d9bb"
      },
      "outputs": [
        {
          "data": {
            "text/html": [
              "<div>\n",
              "<style scoped>\n",
              "    .dataframe tbody tr th:only-of-type {\n",
              "        vertical-align: middle;\n",
              "    }\n",
              "\n",
              "    .dataframe tbody tr th {\n",
              "        vertical-align: top;\n",
              "    }\n",
              "\n",
              "    .dataframe thead th {\n",
              "        text-align: right;\n",
              "    }\n",
              "</style>\n",
              "<table border=\"1\" class=\"dataframe\">\n",
              "  <thead>\n",
              "    <tr style=\"text-align: right;\">\n",
              "      <th></th>\n",
              "      <th>PassengerId</th>\n",
              "      <th>Survived</th>\n",
              "    </tr>\n",
              "  </thead>\n",
              "  <tbody>\n",
              "    <tr>\n",
              "      <th>0</th>\n",
              "      <td>892</td>\n",
              "      <td>0</td>\n",
              "    </tr>\n",
              "    <tr>\n",
              "      <th>1</th>\n",
              "      <td>893</td>\n",
              "      <td>0</td>\n",
              "    </tr>\n",
              "    <tr>\n",
              "      <th>2</th>\n",
              "      <td>894</td>\n",
              "      <td>0</td>\n",
              "    </tr>\n",
              "    <tr>\n",
              "      <th>3</th>\n",
              "      <td>895</td>\n",
              "      <td>0</td>\n",
              "    </tr>\n",
              "    <tr>\n",
              "      <th>4</th>\n",
              "      <td>896</td>\n",
              "      <td>0</td>\n",
              "    </tr>\n",
              "  </tbody>\n",
              "</table>\n",
              "</div>"
            ],
            "text/plain": [
              "   PassengerId  Survived\n",
              "0          892         0\n",
              "1          893         0\n",
              "2          894         0\n",
              "3          895         0\n",
              "4          896         0"
            ]
          },
          "execution_count": 21,
          "metadata": {},
          "output_type": "execute_result"
        }
      ],
      "source": [
        "result = pd.DataFrame(c, columns = [\"PassengerId\", \"Survived\"])\n",
        "result.head()"
      ]
    },
    {
      "cell_type": "code",
      "execution_count": null,
      "id": "baaf37f3",
      "metadata": {
        "execution": {
          "iopub.execute_input": "2022-12-23T13:46:06.323142Z",
          "iopub.status.busy": "2022-12-23T13:46:06.321849Z",
          "iopub.status.idle": "2022-12-23T13:46:06.329981Z",
          "shell.execute_reply": "2022-12-23T13:46:06.328851Z"
        },
        "papermill": {
          "duration": 0.021912,
          "end_time": "2022-12-23T13:46:06.332551",
          "exception": false,
          "start_time": "2022-12-23T13:46:06.310639",
          "status": "completed"
        },
        "tags": [],
        "id": "baaf37f3"
      },
      "outputs": [],
      "source": [
        "result.to_csv(\"submission.csv\", index=False)"
      ]
    },
    {
      "cell_type": "code",
      "execution_count": null,
      "id": "3f40fa82",
      "metadata": {
        "papermill": {
          "duration": 0.009112,
          "end_time": "2022-12-23T13:46:06.351868",
          "exception": false,
          "start_time": "2022-12-23T13:46:06.342756",
          "status": "completed"
        },
        "tags": [],
        "id": "3f40fa82"
      },
      "outputs": [],
      "source": []
    }
  ],
  "metadata": {
    "kernelspec": {
      "display_name": "Python 3",
      "language": "python",
      "name": "python3"
    },
    "language_info": {
      "codemirror_mode": {
        "name": "ipython",
        "version": 3
      },
      "file_extension": ".py",
      "mimetype": "text/x-python",
      "name": "python",
      "nbconvert_exporter": "python",
      "pygments_lexer": "ipython3",
      "version": "3.7.12"
    },
    "papermill": {
      "default_parameters": {},
      "duration": 12.259285,
      "end_time": "2022-12-23T13:46:07.186655",
      "environment_variables": {},
      "exception": null,
      "input_path": "__notebook__.ipynb",
      "output_path": "__notebook__.ipynb",
      "parameters": {},
      "start_time": "2022-12-23T13:45:54.927370",
      "version": "2.3.4"
    },
    "colab": {
      "provenance": [],
      "include_colab_link": true
    }
  },
  "nbformat": 4,
  "nbformat_minor": 5
}